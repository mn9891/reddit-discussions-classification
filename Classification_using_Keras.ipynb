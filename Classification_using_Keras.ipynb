{
 "cells": [
  {
   "cell_type": "markdown",
   "metadata": {},
   "source": [
    "<h1><center> Classification using Keras </center></h1>"
   ]
  },
  {
   "cell_type": "markdown",
   "metadata": {},
   "source": [
    "<div style=\"text-align: right\"> Amen Memmi</div>\n",
    "<div style=\"text-align: right\"> amen.memmi@mail.mcgill.ca</div>\n",
    "<div style=\"text-align: right\">  ID: 260755070</div>"
   ]
  },
  {
   "cell_type": "code",
   "execution_count": 1,
   "metadata": {},
   "outputs": [
    {
     "name": "stderr",
     "output_type": "stream",
     "text": [
      "D:\\ProgramData\\Anaconda3\\lib\\site-packages\\h5py\\__init__.py:36: FutureWarning: Conversion of the second argument of issubdtype from `float` to `np.floating` is deprecated. In future, it will be treated as `np.float64 == np.dtype(float).type`.\n",
      "  from ._conv import register_converters as _register_converters\n",
      "Using TensorFlow backend.\n"
     ]
    }
   ],
   "source": [
    "import pandas as pd\n",
    "import numpy as np\n",
    "import re\n",
    "from sklearn.model_selection import train_test_split\n",
    "\n",
    "from keras.models import Sequential,Model\n",
    "from keras.layers.embeddings import Embedding\n",
    "from keras.layers.recurrent import GRU\n",
    "from keras.preprocessing.text import Tokenizer\n",
    "from keras.preprocessing.sequence import pad_sequences\n",
    "from keras.layers import Dense\n",
    "from keras.layers import GlobalAveragePooling1D,Input,Conv1D,MaxPooling1D,Flatten\n",
    "from nltk.corpus import stopwords\n",
    "from nltk.tokenize import word_tokenize\n",
    "from nltk.stem import WordNetLemmatizer\n",
    "\n",
    "from tqdm import tqdm_notebook"
   ]
  },
  {
   "cell_type": "markdown",
   "metadata": {},
   "source": [
    "#### Import the data"
   ]
  },
  {
   "cell_type": "code",
   "execution_count": 2,
   "metadata": {},
   "outputs": [
    {
     "data": {
      "text/html": [
       "<div>\n",
       "<style scoped>\n",
       "    .dataframe tbody tr th:only-of-type {\n",
       "        vertical-align: middle;\n",
       "    }\n",
       "\n",
       "    .dataframe tbody tr th {\n",
       "        vertical-align: top;\n",
       "    }\n",
       "\n",
       "    .dataframe thead th {\n",
       "        text-align: right;\n",
       "    }\n",
       "</style>\n",
       "<table border=\"1\" class=\"dataframe\">\n",
       "  <thead>\n",
       "    <tr style=\"text-align: right;\">\n",
       "      <th></th>\n",
       "      <th>conversation</th>\n",
       "      <th>category</th>\n",
       "    </tr>\n",
       "  </thead>\n",
       "  <tbody>\n",
       "    <tr>\n",
       "      <th>164995</th>\n",
       "      <td>&lt;speaker_1&gt; 2015 nfl draft \" i told you so \" t...</td>\n",
       "      <td>nfl</td>\n",
       "    </tr>\n",
       "    <tr>\n",
       "      <th>164996</th>\n",
       "      <td>&lt;speaker_1&gt; pk subban on lundqvist 's &lt;number&gt;...</td>\n",
       "      <td>hockey</td>\n",
       "    </tr>\n",
       "    <tr>\n",
       "      <th>164997</th>\n",
       "      <td>&lt;speaker_1&gt; kyrie irving and kevin love had a ...</td>\n",
       "      <td>nba</td>\n",
       "    </tr>\n",
       "    <tr>\n",
       "      <th>164998</th>\n",
       "      <td>&lt;speaker_1&gt; miroslav klose has the broken the ...</td>\n",
       "      <td>soccer</td>\n",
       "    </tr>\n",
       "    <tr>\n",
       "      <th>164999</th>\n",
       "      <td>&lt;speaker_1&gt; attorney charged with having sex w...</td>\n",
       "      <td>news</td>\n",
       "    </tr>\n",
       "  </tbody>\n",
       "</table>\n",
       "</div>"
      ],
      "text/plain": [
       "                                             conversation category\n",
       "164995  <speaker_1> 2015 nfl draft \" i told you so \" t...      nfl\n",
       "164996  <speaker_1> pk subban on lundqvist 's <number>...   hockey\n",
       "164997  <speaker_1> kyrie irving and kevin love had a ...      nba\n",
       "164998  <speaker_1> miroslav klose has the broken the ...   soccer\n",
       "164999  <speaker_1> attorney charged with having sex w...     news"
      ]
     },
     "execution_count": 2,
     "metadata": {},
     "output_type": "execute_result"
    }
   ],
   "source": [
    "data = pd.read_csv('train_input.csv')\n",
    "data['category'] =  pd.read_csv('train_output.csv')['category']\n",
    "data = data.drop(columns={'id'})\n",
    "data.tail()"
   ]
  },
  {
   "cell_type": "code",
   "execution_count": 3,
   "metadata": {},
   "outputs": [],
   "source": [
    "def clean_str(s):\n",
    "    \"\"\"Clean sentence\"\"\"\n",
    "    for expr in [r\"</d>\", r\"</s>\",r\"<speaker_1>\",r\"<speaker_2>\",r\"[^A-Za-z0-9(),!?\\'\\`]\"]:\n",
    "        s = re.sub(expr, \" \", s)\n",
    "    for expr in [r\"\\'s\",r\"\\'ve\",r\"\\'t\",r\"\\'re\",r\"\\'d\",r\"\\'ll\",]:\n",
    "        s = re.sub(expr, \" \"+expr[1:], s)\n",
    "    for expr in [r\",\",r\"!\",r\"\\(\",r\"\\)\"r\"\\?\"]:\n",
    "        s = re.sub(expr, \" \"+expr[1:]+\" \", s)\n",
    "    s = re.sub(r\"\\s{2,}\", \" \", s)\n",
    "    s = re.sub(r'\\S*(x{2,}|X{2,})\\S*',\"xxx\", s)\n",
    "    s = re.sub(r'[^\\x00-\\x7F]+', \"\", s)\n",
    "    return s.strip().lower()"
   ]
  },
  {
   "cell_type": "markdown",
   "metadata": {},
   "source": [
    "#### Clean the conversations"
   ]
  },
  {
   "cell_type": "code",
   "execution_count": 4,
   "metadata": {},
   "outputs": [],
   "source": [
    "data[\"conversation\"] = data[\"conversation\"].apply(lambda x: clean_str(x))"
   ]
  },
  {
   "cell_type": "markdown",
   "metadata": {},
   "source": [
    "#### Transform the output into multiple classes vectors"
   ]
  },
  {
   "cell_type": "code",
   "execution_count": 7,
   "metadata": {},
   "outputs": [
    {
     "data": {
      "application/vnd.jupyter.widget-view+json": {
       "model_id": "de16d3d2f51b48b6870f90067a76c07c",
       "version_major": 2,
       "version_minor": 0
      },
      "text/plain": [
       "HBox(children=(IntProgress(value=0, max=165000), HTML(value='')))"
      ]
     },
     "metadata": {},
     "output_type": "display_data"
    },
    {
     "name": "stdout",
     "output_type": "stream",
     "text": [
      "\n"
     ]
    }
   ],
   "source": [
    "for c in data['category'].unique():\n",
    "    data[c] = np.zeros(len(data)).astype(int)\n",
    "u = data['category'].map({'news':2, 'nfl':3, 'soccer':4, 'movies':5, 'politics':6, 'hockey':7, 'nba':8,'worldnews':9})\n",
    "for i in tqdm_notebook(range(len(data))):\n",
    "    data.iloc[i,u[i]] = 1"
   ]
  },
  {
   "cell_type": "code",
   "execution_count": 56,
   "metadata": {},
   "outputs": [
    {
     "data": {
      "text/html": [
       "<div>\n",
       "<style scoped>\n",
       "    .dataframe tbody tr th:only-of-type {\n",
       "        vertical-align: middle;\n",
       "    }\n",
       "\n",
       "    .dataframe tbody tr th {\n",
       "        vertical-align: top;\n",
       "    }\n",
       "\n",
       "    .dataframe thead th {\n",
       "        text-align: right;\n",
       "    }\n",
       "</style>\n",
       "<table border=\"1\" class=\"dataframe\">\n",
       "  <thead>\n",
       "    <tr style=\"text-align: right;\">\n",
       "      <th></th>\n",
       "      <th>conversation</th>\n",
       "      <th>category</th>\n",
       "      <th>news</th>\n",
       "      <th>nfl</th>\n",
       "      <th>soccer</th>\n",
       "      <th>movies</th>\n",
       "      <th>politics</th>\n",
       "      <th>hockey</th>\n",
       "      <th>nba</th>\n",
       "      <th>worldnews</th>\n",
       "    </tr>\n",
       "  </thead>\n",
       "  <tbody>\n",
       "    <tr>\n",
       "      <th>0</th>\n",
       "      <td>seaworld ceo steps down amid tanking revenues ...</td>\n",
       "      <td>news</td>\n",
       "      <td>1</td>\n",
       "      <td>0</td>\n",
       "      <td>0</td>\n",
       "      <td>0</td>\n",
       "      <td>0</td>\n",
       "      <td>0</td>\n",
       "      <td>0</td>\n",
       "      <td>0</td>\n",
       "    </tr>\n",
       "    <tr>\n",
       "      <th>1</th>\n",
       "      <td>strickland chargers owner dean spanos and gold...</td>\n",
       "      <td>nfl</td>\n",
       "      <td>0</td>\n",
       "      <td>1</td>\n",
       "      <td>0</td>\n",
       "      <td>0</td>\n",
       "      <td>0</td>\n",
       "      <td>0</td>\n",
       "      <td>0</td>\n",
       "      <td>0</td>\n",
       "    </tr>\n",
       "    <tr>\n",
       "      <th>2</th>\n",
       "      <td>iniesta plays keepy uppy with one leg man yout...</td>\n",
       "      <td>soccer</td>\n",
       "      <td>0</td>\n",
       "      <td>0</td>\n",
       "      <td>1</td>\n",
       "      <td>0</td>\n",
       "      <td>0</td>\n",
       "      <td>0</td>\n",
       "      <td>0</td>\n",
       "      <td>0</td>\n",
       "    </tr>\n",
       "    <tr>\n",
       "      <th>3</th>\n",
       "      <td>chappie trailer 1 number hugh jackman sci fi c...</td>\n",
       "      <td>movies</td>\n",
       "      <td>0</td>\n",
       "      <td>0</td>\n",
       "      <td>0</td>\n",
       "      <td>1</td>\n",
       "      <td>0</td>\n",
       "      <td>0</td>\n",
       "      <td>0</td>\n",
       "      <td>0</td>\n",
       "    </tr>\n",
       "    <tr>\n",
       "      <th>4</th>\n",
       "      <td>why the church of satan may get to open your c...</td>\n",
       "      <td>politics</td>\n",
       "      <td>0</td>\n",
       "      <td>0</td>\n",
       "      <td>0</td>\n",
       "      <td>0</td>\n",
       "      <td>1</td>\n",
       "      <td>0</td>\n",
       "      <td>0</td>\n",
       "      <td>0</td>\n",
       "    </tr>\n",
       "  </tbody>\n",
       "</table>\n",
       "</div>"
      ],
      "text/plain": [
       "                                        conversation  category  news  nfl  \\\n",
       "0  seaworld ceo steps down amid tanking revenues ...      news     1    0   \n",
       "1  strickland chargers owner dean spanos and gold...       nfl     0    1   \n",
       "2  iniesta plays keepy uppy with one leg man yout...    soccer     0    0   \n",
       "3  chappie trailer 1 number hugh jackman sci fi c...    movies     0    0   \n",
       "4  why the church of satan may get to open your c...  politics     0    0   \n",
       "\n",
       "   soccer  movies  politics  hockey  nba  worldnews  \n",
       "0       0       0         0       0    0          0  \n",
       "1       0       0         0       0    0          0  \n",
       "2       1       0         0       0    0          0  \n",
       "3       0       1         0       0    0          0  \n",
       "4       0       0         1       0    0          0  "
      ]
     },
     "execution_count": 56,
     "metadata": {},
     "output_type": "execute_result"
    }
   ],
   "source": [
    "data.head()"
   ]
  },
  {
   "cell_type": "code",
   "execution_count": 11,
   "metadata": {},
   "outputs": [],
   "source": [
    "# data.to_csv('data_nn_ready.csv',index=False)"
   ]
  },
  {
   "cell_type": "code",
   "execution_count": null,
   "metadata": {},
   "outputs": [],
   "source": [
    "# data = pd.read_csv('data_nn_ready.csv')"
   ]
  },
  {
   "cell_type": "markdown",
   "metadata": {},
   "source": [
    "#### Split the data into training and test sets"
   ]
  },
  {
   "cell_type": "code",
   "execution_count": 23,
   "metadata": {},
   "outputs": [],
   "source": [
    "X_train, X_test, y_train, y_test = train_test_split(data.conversation, data[data['category'].unique()], test_size=0.25, random_state=42)"
   ]
  },
  {
   "cell_type": "markdown",
   "metadata": {},
   "source": [
    "#### Show input max sequence length\n",
    "If the max input sequence length is too long, we can put a limit to it in order to reduce the training time."
   ]
  },
  {
   "cell_type": "code",
   "execution_count": 24,
   "metadata": {},
   "outputs": [
    {
     "name": "stdout",
     "output_type": "stream",
     "text": [
      "max input length is:  1002\n"
     ]
    }
   ],
   "source": [
    "xLengths = [len(word_tokenize(x)) for x in X_train]\n",
    "h = sorted(xLengths)  #sorted lengths\n",
    "maxLength =h[len(h)-1]\n",
    "print(\"max input length is: \",maxLength)\n"
   ]
  },
  {
   "cell_type": "markdown",
   "metadata": {},
   "source": [
    "#### Choose a smaller max length for input sequence to reduce the training time\n"
   ]
  },
  {
   "cell_type": "code",
   "execution_count": 25,
   "metadata": {},
   "outputs": [
    {
     "name": "stdout",
     "output_type": "stream",
     "text": [
      "70% cover input sequence length up to 114\n"
     ]
    }
   ],
   "source": [
    "maxLength = h[int(len(h) * 0.8)]\n",
    "print(\"80% covers input sequence length up to\",maxLength)"
   ]
  },
  {
   "cell_type": "markdown",
   "metadata": {},
   "source": [
    "#### Tokenize the conversations and padding the sequences"
   ]
  },
  {
   "cell_type": "code",
   "execution_count": 26,
   "metadata": {},
   "outputs": [
    {
     "name": "stdout",
     "output_type": "stream",
     "text": [
      "input_vocab_size: 102837\n"
     ]
    }
   ],
   "source": [
    "max_vocab_size = 200000\n",
    "input_tokenizer = Tokenizer(max_vocab_size)\n",
    "input_tokenizer.fit_on_texts(X_train)\n",
    "input_vocab_size = len(input_tokenizer.word_index) + 1\n",
    "print(\"input_vocab_size:\",input_vocab_size)\n",
    "totalX = np.array(pad_sequences(input_tokenizer.texts_to_sequences(X_train), maxlen=maxLength))"
   ]
  },
  {
   "cell_type": "code",
   "execution_count": 27,
   "metadata": {},
   "outputs": [],
   "source": [
    "num_categories = data['category'].nunique()"
   ]
  },
  {
   "cell_type": "markdown",
   "metadata": {},
   "source": [
    "#### Create the model: stacking layers "
   ]
  },
  {
   "cell_type": "code",
   "execution_count": 28,
   "metadata": {},
   "outputs": [],
   "source": [
    "EMBEDDING_DIM = 100\n",
    "model = Sequential()\n",
    "model.add(Embedding(input_vocab_size, EMBEDDING_DIM,input_length = maxLength))\n",
    "model.add(GRU(256, dropout=0.1, return_sequences=True))\n",
    "model.add(GRU(256, dropout=0.1))\n",
    "model.add(Dense(32, activation='relu'))\n",
    "model.add(Dense(num_categories, activation='sigmoid'))\n",
    "model.compile(loss='binary_crossentropy', optimizer='adam', metrics=['accuracy'])"
   ]
  },
  {
   "cell_type": "markdown",
   "metadata": {},
   "source": [
    "### Train model"
   ]
  },
  {
   "cell_type": "code",
   "execution_count": 30,
   "metadata": {
    "scrolled": true
   },
   "outputs": [
    {
     "name": "stdout",
     "output_type": "stream",
     "text": [
      "Train on 86625 samples, validate on 37125 samples\n",
      "Epoch 1/3\n"
     ]
    },
    {
     "name": "stdout",
     "output_type": "stream",
     "text": [
      "25984/86625 [=======>......................] - ETA: 32:02 - loss: 0.6937 - acc: 0.43 - ETA: 21:07 - loss: 0.6919 - acc: 0.60 - ETA: 17:33 - loss: 0.6900 - acc: 0.68 - ETA: 15:41 - loss: 0.6871 - acc: 0.72 - ETA: 14:36 - loss: 0.6834 - acc: 0.75 - ETA: 13:51 - loss: 0.6779 - acc: 0.77 - ETA: 13:18 - loss: 0.6699 - acc: 0.78 - ETA: 12:54 - loss: 0.6585 - acc: 0.79 - ETA: 12:32 - loss: 0.6417 - acc: 0.80 - ETA: 12:17 - loss: 0.6213 - acc: 0.81 - ETA: 12:04 - loss: 0.6091 - acc: 0.81 - ETA: 11:56 - loss: 0.5990 - acc: 0.82 - ETA: 11:46 - loss: 0.5849 - acc: 0.82 - ETA: 11:39 - loss: 0.5709 - acc: 0.83 - ETA: 11:32 - loss: 0.5597 - acc: 0.83 - ETA: 11:27 - loss: 0.5502 - acc: 0.83 - ETA: 11:23 - loss: 0.5418 - acc: 0.83 - ETA: 11:17 - loss: 0.5337 - acc: 0.84 - ETA: 11:13 - loss: 0.5259 - acc: 0.84 - ETA: 11:07 - loss: 0.5191 - acc: 0.84 - ETA: 11:03 - loss: 0.5125 - acc: 0.84 - ETA: 10:59 - loss: 0.5069 - acc: 0.84 - ETA: 10:57 - loss: 0.5020 - acc: 0.84 - ETA: 10:53 - loss: 0.4972 - acc: 0.84 - ETA: 10:51 - loss: 0.4926 - acc: 0.85 - ETA: 10:47 - loss: 0.4882 - acc: 0.85 - ETA: 10:45 - loss: 0.4842 - acc: 0.85 - ETA: 10:43 - loss: 0.4805 - acc: 0.85 - ETA: 10:40 - loss: 0.4771 - acc: 0.85 - ETA: 10:38 - loss: 0.4740 - acc: 0.85 - ETA: 10:35 - loss: 0.4711 - acc: 0.85 - ETA: 10:34 - loss: 0.4683 - acc: 0.85 - ETA: 10:32 - loss: 0.4658 - acc: 0.85 - ETA: 10:31 - loss: 0.4632 - acc: 0.85 - ETA: 10:29 - loss: 0.4608 - acc: 0.85 - ETA: 10:28 - loss: 0.4584 - acc: 0.85 - ETA: 10:26 - loss: 0.4562 - acc: 0.85 - ETA: 10:25 - loss: 0.4543 - acc: 0.85 - ETA: 10:23 - loss: 0.4524 - acc: 0.85 - ETA: 10:20 - loss: 0.4506 - acc: 0.85 - ETA: 10:19 - loss: 0.4489 - acc: 0.86 - ETA: 10:17 - loss: 0.4473 - acc: 0.86 - ETA: 10:16 - loss: 0.4456 - acc: 0.86 - ETA: 10:15 - loss: 0.4441 - acc: 0.86 - ETA: 10:13 - loss: 0.4426 - acc: 0.86 - ETA: 10:12 - loss: 0.4412 - acc: 0.86 - ETA: 10:10 - loss: 0.4399 - acc: 0.86 - ETA: 10:09 - loss: 0.4386 - acc: 0.86 - ETA: 10:06 - loss: 0.4373 - acc: 0.86 - ETA: 10:04 - loss: 0.4361 - acc: 0.86 - ETA: 10:02 - loss: 0.4350 - acc: 0.86 - ETA: 10:01 - loss: 0.4340 - acc: 0.86 - ETA: 10:00 - loss: 0.4329 - acc: 0.86 - ETA: 9:59 - loss: 0.4319 - acc: 0.8637 - ETA: 9:58 - loss: 0.4309 - acc: 0.863 - ETA: 9:57 - loss: 0.4300 - acc: 0.864 - ETA: 9:55 - loss: 0.4290 - acc: 0.864 - ETA: 9:54 - loss: 0.4282 - acc: 0.864 - ETA: 9:53 - loss: 0.4273 - acc: 0.864 - ETA: 9:52 - loss: 0.4265 - acc: 0.864 - ETA: 9:51 - loss: 0.4257 - acc: 0.865 - ETA: 9:50 - loss: 0.4249 - acc: 0.865 - ETA: 9:49 - loss: 0.4242 - acc: 0.865 - ETA: 9:48 - loss: 0.4235 - acc: 0.865 - ETA: 9:47 - loss: 0.4228 - acc: 0.865 - ETA: 9:47 - loss: 0.4220 - acc: 0.865 - ETA: 9:47 - loss: 0.4214 - acc: 0.865 - ETA: 9:48 - loss: 0.4207 - acc: 0.866 - ETA: 9:48 - loss: 0.4200 - acc: 0.866 - ETA: 9:47 - loss: 0.4194 - acc: 0.866 - ETA: 9:45 - loss: 0.4189 - acc: 0.866 - ETA: 9:45 - loss: 0.4183 - acc: 0.866 - ETA: 9:44 - loss: 0.4177 - acc: 0.866 - ETA: 9:44 - loss: 0.4172 - acc: 0.866 - ETA: 9:43 - loss: 0.4167 - acc: 0.866 - ETA: 9:43 - loss: 0.4162 - acc: 0.866 - ETA: 9:42 - loss: 0.4157 - acc: 0.867 - ETA: 9:41 - loss: 0.4152 - acc: 0.867 - ETA: 9:40 - loss: 0.4147 - acc: 0.867 - ETA: 9:39 - loss: 0.4142 - acc: 0.867 - ETA: 9:37 - loss: 0.4137 - acc: 0.867 - ETA: 9:36 - loss: 0.4133 - acc: 0.867 - ETA: 9:35 - loss: 0.4129 - acc: 0.867 - ETA: 9:34 - loss: 0.4125 - acc: 0.867 - ETA: 9:33 - loss: 0.4121 - acc: 0.867 - ETA: 9:32 - loss: 0.4117 - acc: 0.867 - ETA: 9:32 - loss: 0.4113 - acc: 0.868 - ETA: 9:31 - loss: 0.4108 - acc: 0.868 - ETA: 9:30 - loss: 0.4105 - acc: 0.868 - ETA: 9:29 - loss: 0.4101 - acc: 0.868 - ETA: 9:28 - loss: 0.4097 - acc: 0.868 - ETA: 9:27 - loss: 0.4094 - acc: 0.868 - ETA: 9:26 - loss: 0.4091 - acc: 0.868 - ETA: 9:25 - loss: 0.4087 - acc: 0.868 - ETA: 9:24 - loss: 0.4084 - acc: 0.868 - ETA: 9:24 - loss: 0.4081 - acc: 0.868 - ETA: 9:23 - loss: 0.4077 - acc: 0.868 - ETA: 9:22 - loss: 0.4074 - acc: 0.868 - ETA: 9:21 - loss: 0.4071 - acc: 0.868 - ETA: 9:20 - loss: 0.4068 - acc: 0.868 - ETA: 9:19 - loss: 0.4065 - acc: 0.868 - ETA: 9:18 - loss: 0.4062 - acc: 0.869 - ETA: 9:17 - loss: 0.4059 - acc: 0.869 - ETA: 9:16 - loss: 0.4056 - acc: 0.869 - ETA: 9:15 - loss: 0.4054 - acc: 0.869 - ETA: 9:15 - loss: 0.4051 - acc: 0.869 - ETA: 9:14 - loss: 0.4048 - acc: 0.869 - ETA: 9:13 - loss: 0.4046 - acc: 0.869 - ETA: 9:12 - loss: 0.4043 - acc: 0.869 - ETA: 9:11 - loss: 0.4041 - acc: 0.869 - ETA: 9:10 - loss: 0.4038 - acc: 0.869 - ETA: 9:09 - loss: 0.4036 - acc: 0.869 - ETA: 9:08 - loss: 0.4033 - acc: 0.869 - ETA: 9:07 - loss: 0.4031 - acc: 0.869 - ETA: 9:06 - loss: 0.4029 - acc: 0.869 - ETA: 9:06 - loss: 0.4027 - acc: 0.869 - ETA: 9:05 - loss: 0.4025 - acc: 0.869 - ETA: 9:04 - loss: 0.4022 - acc: 0.869 - ETA: 9:03 - loss: 0.4020 - acc: 0.869 - ETA: 9:02 - loss: 0.4018 - acc: 0.869 - ETA: 9:01 - loss: 0.4016 - acc: 0.869 - ETA: 9:00 - loss: 0.4014 - acc: 0.870 - ETA: 8:59 - loss: 0.4012 - acc: 0.870 - ETA: 8:58 - loss: 0.4010 - acc: 0.870 - ETA: 8:57 - loss: 0.4008 - acc: 0.870 - ETA: 8:56 - loss: 0.4006 - acc: 0.870 - ETA: 8:55 - loss: 0.4004 - acc: 0.870 - ETA: 8:54 - loss: 0.4002 - acc: 0.870 - ETA: 8:53 - loss: 0.4000 - acc: 0.870 - ETA: 8:52 - loss: 0.3999 - acc: 0.870 - ETA: 8:51 - loss: 0.3997 - acc: 0.870 - ETA: 8:50 - loss: 0.3995 - acc: 0.870 - ETA: 8:49 - loss: 0.3993 - acc: 0.870 - ETA: 8:48 - loss: 0.3992 - acc: 0.870 - ETA: 8:47 - loss: 0.3990 - acc: 0.870 - ETA: 8:46 - loss: 0.3988 - acc: 0.870 - ETA: 8:46 - loss: 0.3987 - acc: 0.870 - ETA: 8:45 - loss: 0.3985 - acc: 0.870 - ETA: 8:44 - loss: 0.3983 - acc: 0.870 - ETA: 8:43 - loss: 0.3982 - acc: 0.870 - ETA: 8:42 - loss: 0.3980 - acc: 0.870 - ETA: 8:41 - loss: 0.3979 - acc: 0.870 - ETA: 8:40 - loss: 0.3977 - acc: 0.870 - ETA: 8:39 - loss: 0.3976 - acc: 0.870 - ETA: 8:38 - loss: 0.3974 - acc: 0.870 - ETA: 8:37 - loss: 0.3973 - acc: 0.870 - ETA: 8:36 - loss: 0.3971 - acc: 0.870 - ETA: 8:35 - loss: 0.3970 - acc: 0.870 - ETA: 8:34 - loss: 0.3968 - acc: 0.870 - ETA: 8:33 - loss: 0.3967 - acc: 0.870 - ETA: 8:32 - loss: 0.3965 - acc: 0.870 - ETA: 8:31 - loss: 0.3964 - acc: 0.871 - ETA: 8:30 - loss: 0.3962 - acc: 0.871 - ETA: 8:29 - loss: 0.3961 - acc: 0.871 - ETA: 8:28 - loss: 0.3960 - acc: 0.871 - ETA: 8:27 - loss: 0.3958 - acc: 0.871 - ETA: 8:26 - loss: 0.3957 - acc: 0.871 - ETA: 8:25 - loss: 0.3956 - acc: 0.871 - ETA: 8:24 - loss: 0.3954 - acc: 0.871 - ETA: 8:24 - loss: 0.3953 - acc: 0.871 - ETA: 8:23 - loss: 0.3952 - acc: 0.871 - ETA: 8:21 - loss: 0.3950 - acc: 0.871 - ETA: 8:20 - loss: 0.3949 - acc: 0.871 - ETA: 8:19 - loss: 0.3948 - acc: 0.871 - ETA: 8:18 - loss: 0.3947 - acc: 0.871 - ETA: 8:17 - loss: 0.3945 - acc: 0.871 - ETA: 8:16 - loss: 0.3944 - acc: 0.871 - ETA: 8:16 - loss: 0.3942 - acc: 0.871 - ETA: 8:15 - loss: 0.3941 - acc: 0.871 - ETA: 8:14 - loss: 0.3940 - acc: 0.871 - ETA: 8:13 - loss: 0.3938 - acc: 0.871 - ETA: 8:12 - loss: 0.3937 - acc: 0.871 - ETA: 8:11 - loss: 0.3935 - acc: 0.871 - ETA: 8:10 - loss: 0.3933 - acc: 0.871 - ETA: 8:09 - loss: 0.3931 - acc: 0.871 - ETA: 8:08 - loss: 0.3929 - acc: 0.871 - ETA: 8:07 - loss: 0.3928 - acc: 0.871 - ETA: 8:06 - loss: 0.3925 - acc: 0.871 - ETA: 8:05 - loss: 0.3923 - acc: 0.871 - ETA: 8:04 - loss: 0.3921 - acc: 0.871 - ETA: 8:03 - loss: 0.3918 - acc: 0.871 - ETA: 8:02 - loss: 0.3916 - acc: 0.871 - ETA: 8:01 - loss: 0.3913 - acc: 0.871 - ETA: 8:00 - loss: 0.3911 - acc: 0.871 - ETA: 7:59 - loss: 0.3908 - acc: 0.871 - ETA: 7:58 - loss: 0.3905 - acc: 0.871 - ETA: 7:57 - loss: 0.3901 - acc: 0.871 - ETA: 7:56 - loss: 0.3898 - acc: 0.871 - ETA: 7:55 - loss: 0.3894 - acc: 0.871 - ETA: 7:54 - loss: 0.3890 - acc: 0.872 - ETA: 7:53 - loss: 0.3886 - acc: 0.872 - ETA: 7:52 - loss: 0.3883 - acc: 0.872 - ETA: 7:51 - loss: 0.3879 - acc: 0.872 - ETA: 7:50 - loss: 0.3876 - acc: 0.872 - ETA: 7:49 - loss: 0.3872 - acc: 0.872 - ETA: 7:48 - loss: 0.3868 - acc: 0.872 - ETA: 7:47 - loss: 0.3864 - acc: 0.872 - ETA: 7:46 - loss: 0.3861 - acc: 0.872 - ETA: 7:46 - loss: 0.3856 - acc: 0.872 - ETA: 7:45 - loss: 0.3852 - acc: 0.872 - ETA: 7:44 - loss: 0.3847 - acc: 0.872 - ETA: 7:43 - loss: 0.3844 - acc: 0.872 - ETA: 7:42 - loss: 0.3841 - acc: 0.87252096/86625 [=================>............] - ETA: 7:41 - loss: 0.3837 - acc: 0.872 - ETA: 7:40 - loss: 0.3833 - acc: 0.872 - ETA: 7:39 - loss: 0.3829 - acc: 0.872 - ETA: 7:38 - loss: 0.3825 - acc: 0.872 - ETA: 7:37 - loss: 0.3821 - acc: 0.872 - ETA: 7:36 - loss: 0.3817 - acc: 0.872 - ETA: 7:35 - loss: 0.3812 - acc: 0.872 - ETA: 7:34 - loss: 0.3808 - acc: 0.872 - ETA: 7:33 - loss: 0.3804 - acc: 0.872 - ETA: 7:32 - loss: 0.3800 - acc: 0.872 - ETA: 7:31 - loss: 0.3796 - acc: 0.872 - ETA: 7:30 - loss: 0.3792 - acc: 0.872 - ETA: 7:29 - loss: 0.3787 - acc: 0.872 - ETA: 7:28 - loss: 0.3783 - acc: 0.872 - ETA: 7:27 - loss: 0.3779 - acc: 0.872 - ETA: 7:26 - loss: 0.3775 - acc: 0.872 - ETA: 7:25 - loss: 0.3770 - acc: 0.872 - ETA: 7:24 - loss: 0.3767 - acc: 0.872 - ETA: 7:23 - loss: 0.3763 - acc: 0.873 - ETA: 7:22 - loss: 0.3760 - acc: 0.873 - ETA: 7:21 - loss: 0.3757 - acc: 0.873 - ETA: 7:20 - loss: 0.3753 - acc: 0.873 - ETA: 7:19 - loss: 0.3750 - acc: 0.873 - ETA: 7:18 - loss: 0.3746 - acc: 0.873 - ETA: 7:17 - loss: 0.3743 - acc: 0.873 - ETA: 7:17 - loss: 0.3739 - acc: 0.873 - ETA: 7:16 - loss: 0.3735 - acc: 0.873 - ETA: 7:15 - loss: 0.3731 - acc: 0.873 - ETA: 7:14 - loss: 0.3727 - acc: 0.873 - ETA: 7:13 - loss: 0.3723 - acc: 0.873 - ETA: 7:12 - loss: 0.3719 - acc: 0.873 - ETA: 7:11 - loss: 0.3714 - acc: 0.873 - ETA: 7:10 - loss: 0.3709 - acc: 0.873 - ETA: 7:09 - loss: 0.3705 - acc: 0.873 - ETA: 7:08 - loss: 0.3701 - acc: 0.873 - ETA: 7:07 - loss: 0.3697 - acc: 0.873 - ETA: 7:06 - loss: 0.3692 - acc: 0.873 - ETA: 7:05 - loss: 0.3688 - acc: 0.873 - ETA: 7:05 - loss: 0.3683 - acc: 0.873 - ETA: 7:04 - loss: 0.3678 - acc: 0.873 - ETA: 7:03 - loss: 0.3673 - acc: 0.874 - ETA: 7:02 - loss: 0.3667 - acc: 0.874 - ETA: 7:01 - loss: 0.3662 - acc: 0.874 - ETA: 7:00 - loss: 0.3658 - acc: 0.874 - ETA: 6:59 - loss: 0.3653 - acc: 0.874 - ETA: 6:58 - loss: 0.3648 - acc: 0.874 - ETA: 6:57 - loss: 0.3644 - acc: 0.874 - ETA: 6:56 - loss: 0.3640 - acc: 0.874 - ETA: 6:55 - loss: 0.3635 - acc: 0.874 - ETA: 6:54 - loss: 0.3631 - acc: 0.874 - ETA: 6:53 - loss: 0.3626 - acc: 0.874 - ETA: 6:52 - loss: 0.3621 - acc: 0.874 - ETA: 6:51 - loss: 0.3616 - acc: 0.874 - ETA: 6:50 - loss: 0.3611 - acc: 0.874 - ETA: 6:49 - loss: 0.3605 - acc: 0.874 - ETA: 6:49 - loss: 0.3600 - acc: 0.874 - ETA: 6:48 - loss: 0.3595 - acc: 0.874 - ETA: 6:47 - loss: 0.3590 - acc: 0.875 - ETA: 6:46 - loss: 0.3585 - acc: 0.875 - ETA: 6:45 - loss: 0.3579 - acc: 0.875 - ETA: 6:44 - loss: 0.3575 - acc: 0.875 - ETA: 6:43 - loss: 0.3570 - acc: 0.875 - ETA: 6:42 - loss: 0.3565 - acc: 0.875 - ETA: 6:41 - loss: 0.3560 - acc: 0.875 - ETA: 6:40 - loss: 0.3555 - acc: 0.875 - ETA: 6:39 - loss: 0.3550 - acc: 0.875 - ETA: 6:38 - loss: 0.3545 - acc: 0.875 - ETA: 6:37 - loss: 0.3541 - acc: 0.875 - ETA: 6:36 - loss: 0.3537 - acc: 0.875 - ETA: 6:35 - loss: 0.3532 - acc: 0.875 - ETA: 6:34 - loss: 0.3527 - acc: 0.875 - ETA: 6:33 - loss: 0.3522 - acc: 0.876 - ETA: 6:32 - loss: 0.3518 - acc: 0.876 - ETA: 6:31 - loss: 0.3513 - acc: 0.876 - ETA: 6:30 - loss: 0.3509 - acc: 0.876 - ETA: 6:29 - loss: 0.3504 - acc: 0.876 - ETA: 6:28 - loss: 0.3499 - acc: 0.876 - ETA: 6:27 - loss: 0.3495 - acc: 0.876 - ETA: 6:27 - loss: 0.3491 - acc: 0.876 - ETA: 6:26 - loss: 0.3486 - acc: 0.876 - ETA: 6:25 - loss: 0.3481 - acc: 0.876 - ETA: 6:24 - loss: 0.3476 - acc: 0.876 - ETA: 6:23 - loss: 0.3472 - acc: 0.876 - ETA: 6:22 - loss: 0.3467 - acc: 0.877 - ETA: 6:21 - loss: 0.3462 - acc: 0.877 - ETA: 6:20 - loss: 0.3456 - acc: 0.877 - ETA: 6:19 - loss: 0.3451 - acc: 0.877 - ETA: 6:18 - loss: 0.3447 - acc: 0.877 - ETA: 6:17 - loss: 0.3443 - acc: 0.877 - ETA: 6:16 - loss: 0.3438 - acc: 0.877 - ETA: 6:15 - loss: 0.3434 - acc: 0.877 - ETA: 6:14 - loss: 0.3429 - acc: 0.877 - ETA: 6:13 - loss: 0.3423 - acc: 0.878 - ETA: 6:12 - loss: 0.3419 - acc: 0.878 - ETA: 6:11 - loss: 0.3414 - acc: 0.878 - ETA: 6:10 - loss: 0.3410 - acc: 0.878 - ETA: 6:09 - loss: 0.3404 - acc: 0.878 - ETA: 6:08 - loss: 0.3400 - acc: 0.878 - ETA: 6:07 - loss: 0.3394 - acc: 0.878 - ETA: 6:06 - loss: 0.3390 - acc: 0.878 - ETA: 6:05 - loss: 0.3384 - acc: 0.878 - ETA: 6:04 - loss: 0.3379 - acc: 0.879 - ETA: 6:03 - loss: 0.3374 - acc: 0.879 - ETA: 6:02 - loss: 0.3370 - acc: 0.879 - ETA: 6:01 - loss: 0.3365 - acc: 0.879 - ETA: 6:00 - loss: 0.3360 - acc: 0.879 - ETA: 5:59 - loss: 0.3356 - acc: 0.879 - ETA: 5:58 - loss: 0.3352 - acc: 0.879 - ETA: 5:57 - loss: 0.3347 - acc: 0.879 - ETA: 5:56 - loss: 0.3342 - acc: 0.879 - ETA: 5:55 - loss: 0.3338 - acc: 0.880 - ETA: 5:54 - loss: 0.3333 - acc: 0.880 - ETA: 5:53 - loss: 0.3328 - acc: 0.880 - ETA: 5:52 - loss: 0.3325 - acc: 0.880 - ETA: 5:51 - loss: 0.3321 - acc: 0.880 - ETA: 5:50 - loss: 0.3316 - acc: 0.880 - ETA: 5:49 - loss: 0.3311 - acc: 0.880 - ETA: 5:48 - loss: 0.3306 - acc: 0.880 - ETA: 5:47 - loss: 0.3301 - acc: 0.880 - ETA: 5:46 - loss: 0.3298 - acc: 0.881 - ETA: 5:45 - loss: 0.3293 - acc: 0.881 - ETA: 5:44 - loss: 0.3289 - acc: 0.881 - ETA: 5:43 - loss: 0.3284 - acc: 0.881 - ETA: 5:42 - loss: 0.3280 - acc: 0.881 - ETA: 5:41 - loss: 0.3275 - acc: 0.881 - ETA: 5:40 - loss: 0.3270 - acc: 0.881 - ETA: 5:39 - loss: 0.3265 - acc: 0.881 - ETA: 5:38 - loss: 0.3261 - acc: 0.882 - ETA: 5:37 - loss: 0.3256 - acc: 0.882 - ETA: 5:36 - loss: 0.3252 - acc: 0.882 - ETA: 5:35 - loss: 0.3247 - acc: 0.882 - ETA: 5:35 - loss: 0.3243 - acc: 0.882 - ETA: 5:34 - loss: 0.3238 - acc: 0.882 - ETA: 5:33 - loss: 0.3234 - acc: 0.882 - ETA: 5:32 - loss: 0.3229 - acc: 0.882 - ETA: 5:31 - loss: 0.3225 - acc: 0.883 - ETA: 5:30 - loss: 0.3221 - acc: 0.883 - ETA: 5:29 - loss: 0.3217 - acc: 0.883 - ETA: 5:28 - loss: 0.3212 - acc: 0.883 - ETA: 5:27 - loss: 0.3208 - acc: 0.883 - ETA: 5:26 - loss: 0.3204 - acc: 0.883 - ETA: 5:25 - loss: 0.3200 - acc: 0.883 - ETA: 5:24 - loss: 0.3196 - acc: 0.883 - ETA: 5:23 - loss: 0.3192 - acc: 0.884 - ETA: 5:22 - loss: 0.3187 - acc: 0.884 - ETA: 5:21 - loss: 0.3183 - acc: 0.884 - ETA: 5:20 - loss: 0.3178 - acc: 0.884 - ETA: 5:19 - loss: 0.3173 - acc: 0.884 - ETA: 5:18 - loss: 0.3170 - acc: 0.884 - ETA: 5:17 - loss: 0.3165 - acc: 0.884 - ETA: 5:16 - loss: 0.3162 - acc: 0.885 - ETA: 5:15 - loss: 0.3158 - acc: 0.885 - ETA: 5:14 - loss: 0.3154 - acc: 0.885 - ETA: 5:13 - loss: 0.3150 - acc: 0.885 - ETA: 5:12 - loss: 0.3145 - acc: 0.885 - ETA: 5:11 - loss: 0.3141 - acc: 0.885 - ETA: 5:10 - loss: 0.3137 - acc: 0.885 - ETA: 5:09 - loss: 0.3133 - acc: 0.885 - ETA: 5:08 - loss: 0.3128 - acc: 0.886 - ETA: 5:07 - loss: 0.3124 - acc: 0.886 - ETA: 5:06 - loss: 0.3121 - acc: 0.886 - ETA: 5:05 - loss: 0.3116 - acc: 0.886 - ETA: 5:04 - loss: 0.3112 - acc: 0.886 - ETA: 5:03 - loss: 0.3108 - acc: 0.886 - ETA: 5:02 - loss: 0.3103 - acc: 0.886 - ETA: 5:01 - loss: 0.3098 - acc: 0.887 - ETA: 5:00 - loss: 0.3094 - acc: 0.887 - ETA: 4:59 - loss: 0.3090 - acc: 0.887 - ETA: 4:58 - loss: 0.3086 - acc: 0.887 - ETA: 4:57 - loss: 0.3082 - acc: 0.887 - ETA: 4:56 - loss: 0.3077 - acc: 0.887 - ETA: 4:55 - loss: 0.3073 - acc: 0.887 - ETA: 4:54 - loss: 0.3069 - acc: 0.888 - ETA: 4:53 - loss: 0.3065 - acc: 0.888 - ETA: 4:52 - loss: 0.3062 - acc: 0.888 - ETA: 4:51 - loss: 0.3058 - acc: 0.888 - ETA: 4:50 - loss: 0.3053 - acc: 0.888 - ETA: 4:49 - loss: 0.3050 - acc: 0.888 - ETA: 4:48 - loss: 0.3046 - acc: 0.888 - ETA: 4:47 - loss: 0.3042 - acc: 0.888 - ETA: 4:46 - loss: 0.3038 - acc: 0.888 - ETA: 4:45 - loss: 0.3034 - acc: 0.889 - ETA: 4:44 - loss: 0.3031 - acc: 0.889 - ETA: 4:43 - loss: 0.3027 - acc: 0.889 - ETA: 4:42 - loss: 0.3023 - acc: 0.889 - ETA: 4:41 - loss: 0.3019 - acc: 0.889 - ETA: 4:40 - loss: 0.3014 - acc: 0.889 - ETA: 4:39 - loss: 0.3010 - acc: 0.889 - ETA: 4:39 - loss: 0.3006 - acc: 0.890 - ETA: 4:38 - loss: 0.3002 - acc: 0.890 - ETA: 4:37 - loss: 0.2998 - acc: 0.890 - ETA: 4:36 - loss: 0.2993 - acc: 0.890 - ETA: 4:35 - loss: 0.2989 - acc: 0.890 - ETA: 4:34 - loss: 0.2984 - acc: 0.890 - ETA: 4:33 - loss: 0.2980 - acc: 0.891 - ETA: 4:32 - loss: 0.2976 - acc: 0.891 - ETA: 4:31 - loss: 0.2972 - acc: 0.891 - ETA: 4:30 - loss: 0.2968 - acc: 0.891 - ETA: 4:29 - loss: 0.2963 - acc: 0.891 - ETA: 4:28 - loss: 0.2960 - acc: 0.891 - ETA: 4:27 - loss: 0.2955 - acc: 0.891 - ETA: 4:26 - loss: 0.2951 - acc: 0.892 - ETA: 4:25 - loss: 0.2946 - acc: 0.892 - ETA: 4:24 - loss: 0.2942 - acc: 0.892378208/86625 [==========================>...] - ETA: 4:23 - loss: 0.2938 - acc: 0.892 - ETA: 4:22 - loss: 0.2934 - acc: 0.892 - ETA: 4:21 - loss: 0.2931 - acc: 0.892 - ETA: 4:20 - loss: 0.2927 - acc: 0.892 - ETA: 4:19 - loss: 0.2923 - acc: 0.893 - ETA: 4:18 - loss: 0.2919 - acc: 0.893 - ETA: 4:17 - loss: 0.2916 - acc: 0.893 - ETA: 4:16 - loss: 0.2912 - acc: 0.893 - ETA: 4:15 - loss: 0.2908 - acc: 0.893 - ETA: 4:14 - loss: 0.2904 - acc: 0.893 - ETA: 4:13 - loss: 0.2899 - acc: 0.893 - ETA: 4:12 - loss: 0.2895 - acc: 0.893 - ETA: 4:11 - loss: 0.2892 - acc: 0.894 - ETA: 4:10 - loss: 0.2888 - acc: 0.894 - ETA: 4:09 - loss: 0.2884 - acc: 0.894 - ETA: 4:08 - loss: 0.2880 - acc: 0.894 - ETA: 4:07 - loss: 0.2876 - acc: 0.894 - ETA: 4:06 - loss: 0.2872 - acc: 0.894 - ETA: 4:05 - loss: 0.2869 - acc: 0.894 - ETA: 4:04 - loss: 0.2865 - acc: 0.895 - ETA: 4:03 - loss: 0.2861 - acc: 0.895 - ETA: 4:02 - loss: 0.2857 - acc: 0.895 - ETA: 4:01 - loss: 0.2853 - acc: 0.895 - ETA: 4:00 - loss: 0.2850 - acc: 0.895 - ETA: 3:59 - loss: 0.2846 - acc: 0.895 - ETA: 3:58 - loss: 0.2842 - acc: 0.895 - ETA: 3:57 - loss: 0.2839 - acc: 0.895 - ETA: 3:56 - loss: 0.2835 - acc: 0.896 - ETA: 3:55 - loss: 0.2831 - acc: 0.896 - ETA: 3:54 - loss: 0.2827 - acc: 0.896 - ETA: 3:53 - loss: 0.2824 - acc: 0.896 - ETA: 3:52 - loss: 0.2820 - acc: 0.896 - ETA: 3:51 - loss: 0.2815 - acc: 0.896 - ETA: 3:50 - loss: 0.2811 - acc: 0.896 - ETA: 3:49 - loss: 0.2807 - acc: 0.897 - ETA: 3:48 - loss: 0.2803 - acc: 0.897 - ETA: 3:47 - loss: 0.2799 - acc: 0.897 - ETA: 3:46 - loss: 0.2796 - acc: 0.897 - ETA: 3:46 - loss: 0.2793 - acc: 0.897 - ETA: 3:45 - loss: 0.2790 - acc: 0.897 - ETA: 3:44 - loss: 0.2787 - acc: 0.897 - ETA: 3:43 - loss: 0.2783 - acc: 0.897 - ETA: 3:42 - loss: 0.2780 - acc: 0.898 - ETA: 3:41 - loss: 0.2776 - acc: 0.898 - ETA: 3:40 - loss: 0.2772 - acc: 0.898 - ETA: 3:39 - loss: 0.2769 - acc: 0.898 - ETA: 3:38 - loss: 0.2765 - acc: 0.898 - ETA: 3:37 - loss: 0.2762 - acc: 0.898 - ETA: 3:36 - loss: 0.2757 - acc: 0.898 - ETA: 3:35 - loss: 0.2753 - acc: 0.899 - ETA: 3:34 - loss: 0.2750 - acc: 0.899 - ETA: 3:33 - loss: 0.2746 - acc: 0.899 - ETA: 3:32 - loss: 0.2743 - acc: 0.899 - ETA: 3:31 - loss: 0.2739 - acc: 0.899 - ETA: 3:30 - loss: 0.2736 - acc: 0.899 - ETA: 3:29 - loss: 0.2733 - acc: 0.899 - ETA: 3:28 - loss: 0.2729 - acc: 0.899 - ETA: 3:27 - loss: 0.2726 - acc: 0.900 - ETA: 3:26 - loss: 0.2722 - acc: 0.900 - ETA: 3:25 - loss: 0.2719 - acc: 0.900 - ETA: 3:24 - loss: 0.2715 - acc: 0.900 - ETA: 3:23 - loss: 0.2712 - acc: 0.900 - ETA: 3:22 - loss: 0.2708 - acc: 0.900 - ETA: 3:21 - loss: 0.2705 - acc: 0.900 - ETA: 3:20 - loss: 0.2701 - acc: 0.900 - ETA: 3:19 - loss: 0.2698 - acc: 0.901 - ETA: 3:18 - loss: 0.2695 - acc: 0.901 - ETA: 3:17 - loss: 0.2692 - acc: 0.901 - ETA: 3:16 - loss: 0.2688 - acc: 0.901 - ETA: 3:15 - loss: 0.2685 - acc: 0.901 - ETA: 3:14 - loss: 0.2681 - acc: 0.901 - ETA: 3:13 - loss: 0.2678 - acc: 0.901 - ETA: 3:12 - loss: 0.2674 - acc: 0.901 - ETA: 3:11 - loss: 0.2671 - acc: 0.902 - ETA: 3:10 - loss: 0.2668 - acc: 0.902 - ETA: 3:09 - loss: 0.2665 - acc: 0.902 - ETA: 3:08 - loss: 0.2662 - acc: 0.902 - ETA: 3:07 - loss: 0.2658 - acc: 0.902 - ETA: 3:06 - loss: 0.2655 - acc: 0.902 - ETA: 3:05 - loss: 0.2652 - acc: 0.902 - ETA: 3:04 - loss: 0.2649 - acc: 0.902 - ETA: 3:03 - loss: 0.2646 - acc: 0.902 - ETA: 3:02 - loss: 0.2642 - acc: 0.903 - ETA: 3:01 - loss: 0.2640 - acc: 0.903 - ETA: 3:00 - loss: 0.2636 - acc: 0.903 - ETA: 2:59 - loss: 0.2633 - acc: 0.903 - ETA: 2:58 - loss: 0.2629 - acc: 0.903 - ETA: 2:58 - loss: 0.2626 - acc: 0.903 - ETA: 2:57 - loss: 0.2623 - acc: 0.903 - ETA: 2:56 - loss: 0.2620 - acc: 0.903 - ETA: 2:55 - loss: 0.2618 - acc: 0.903 - ETA: 2:54 - loss: 0.2614 - acc: 0.904 - ETA: 2:53 - loss: 0.2612 - acc: 0.904 - ETA: 2:52 - loss: 0.2609 - acc: 0.904 - ETA: 2:51 - loss: 0.2606 - acc: 0.904 - ETA: 2:50 - loss: 0.2602 - acc: 0.904 - ETA: 2:49 - loss: 0.2599 - acc: 0.904 - ETA: 2:48 - loss: 0.2596 - acc: 0.904 - ETA: 2:47 - loss: 0.2593 - acc: 0.904 - ETA: 2:46 - loss: 0.2590 - acc: 0.904 - ETA: 2:45 - loss: 0.2587 - acc: 0.905 - ETA: 2:44 - loss: 0.2584 - acc: 0.905 - ETA: 2:43 - loss: 0.2581 - acc: 0.905 - ETA: 2:42 - loss: 0.2578 - acc: 0.905 - ETA: 2:41 - loss: 0.2576 - acc: 0.905 - ETA: 2:40 - loss: 0.2573 - acc: 0.905 - ETA: 2:39 - loss: 0.2569 - acc: 0.905 - ETA: 2:38 - loss: 0.2567 - acc: 0.905 - ETA: 2:37 - loss: 0.2564 - acc: 0.905 - ETA: 2:36 - loss: 0.2561 - acc: 0.906 - ETA: 2:35 - loss: 0.2558 - acc: 0.906 - ETA: 2:34 - loss: 0.2555 - acc: 0.906 - ETA: 2:33 - loss: 0.2552 - acc: 0.906 - ETA: 2:32 - loss: 0.2549 - acc: 0.906 - ETA: 2:31 - loss: 0.2547 - acc: 0.906 - ETA: 2:30 - loss: 0.2545 - acc: 0.906 - ETA: 2:29 - loss: 0.2542 - acc: 0.906 - ETA: 2:28 - loss: 0.2539 - acc: 0.906 - ETA: 2:27 - loss: 0.2536 - acc: 0.907 - ETA: 2:26 - loss: 0.2533 - acc: 0.907 - ETA: 2:25 - loss: 0.2530 - acc: 0.907 - ETA: 2:24 - loss: 0.2527 - acc: 0.907 - ETA: 2:23 - loss: 0.2524 - acc: 0.907 - ETA: 2:22 - loss: 0.2521 - acc: 0.907 - ETA: 2:21 - loss: 0.2518 - acc: 0.907 - ETA: 2:20 - loss: 0.2515 - acc: 0.907 - ETA: 2:19 - loss: 0.2511 - acc: 0.907 - ETA: 2:18 - loss: 0.2509 - acc: 0.907 - ETA: 2:17 - loss: 0.2507 - acc: 0.908 - ETA: 2:16 - loss: 0.2504 - acc: 0.908 - ETA: 2:15 - loss: 0.2501 - acc: 0.908 - ETA: 2:14 - loss: 0.2499 - acc: 0.908 - ETA: 2:13 - loss: 0.2496 - acc: 0.908 - ETA: 2:12 - loss: 0.2493 - acc: 0.908 - ETA: 2:11 - loss: 0.2490 - acc: 0.908 - ETA: 2:10 - loss: 0.2487 - acc: 0.908 - ETA: 2:10 - loss: 0.2484 - acc: 0.908 - ETA: 2:09 - loss: 0.2481 - acc: 0.908 - ETA: 2:08 - loss: 0.2478 - acc: 0.909 - ETA: 2:07 - loss: 0.2476 - acc: 0.909 - ETA: 2:06 - loss: 0.2473 - acc: 0.909 - ETA: 2:05 - loss: 0.2470 - acc: 0.909 - ETA: 2:04 - loss: 0.2467 - acc: 0.909 - ETA: 2:03 - loss: 0.2464 - acc: 0.909 - ETA: 2:02 - loss: 0.2462 - acc: 0.909 - ETA: 2:01 - loss: 0.2460 - acc: 0.909 - ETA: 2:00 - loss: 0.2457 - acc: 0.909 - ETA: 1:59 - loss: 0.2455 - acc: 0.909 - ETA: 1:58 - loss: 0.2452 - acc: 0.910 - ETA: 1:57 - loss: 0.2449 - acc: 0.910 - ETA: 1:56 - loss: 0.2446 - acc: 0.910 - ETA: 1:55 - loss: 0.2444 - acc: 0.910 - ETA: 1:54 - loss: 0.2441 - acc: 0.910 - ETA: 1:53 - loss: 0.2438 - acc: 0.910 - ETA: 1:52 - loss: 0.2436 - acc: 0.910 - ETA: 1:51 - loss: 0.2433 - acc: 0.910 - ETA: 1:50 - loss: 0.2430 - acc: 0.910 - ETA: 1:49 - loss: 0.2428 - acc: 0.910 - ETA: 1:48 - loss: 0.2425 - acc: 0.911 - ETA: 1:47 - loss: 0.2422 - acc: 0.911 - ETA: 1:46 - loss: 0.2420 - acc: 0.911 - ETA: 1:45 - loss: 0.2417 - acc: 0.911 - ETA: 1:44 - loss: 0.2415 - acc: 0.911 - ETA: 1:43 - loss: 0.2413 - acc: 0.911 - ETA: 1:42 - loss: 0.2411 - acc: 0.911 - ETA: 1:41 - loss: 0.2408 - acc: 0.911 - ETA: 1:40 - loss: 0.2405 - acc: 0.911 - ETA: 1:39 - loss: 0.2403 - acc: 0.911 - ETA: 1:38 - loss: 0.2401 - acc: 0.911 - ETA: 1:37 - loss: 0.2398 - acc: 0.912 - ETA: 1:36 - loss: 0.2395 - acc: 0.912 - ETA: 1:35 - loss: 0.2392 - acc: 0.912 - ETA: 1:34 - loss: 0.2390 - acc: 0.912 - ETA: 1:33 - loss: 0.2388 - acc: 0.912 - ETA: 1:32 - loss: 0.2386 - acc: 0.912 - ETA: 1:31 - loss: 0.2383 - acc: 0.912 - ETA: 1:30 - loss: 0.2381 - acc: 0.912 - ETA: 1:29 - loss: 0.2379 - acc: 0.912 - ETA: 1:28 - loss: 0.2376 - acc: 0.912 - ETA: 1:27 - loss: 0.2374 - acc: 0.912 - ETA: 1:26 - loss: 0.2372 - acc: 0.913 - ETA: 1:25 - loss: 0.2369 - acc: 0.913 - ETA: 1:25 - loss: 0.2367 - acc: 0.913 - ETA: 1:24 - loss: 0.2364 - acc: 0.913 - ETA: 1:23 - loss: 0.2362 - acc: 0.913 - ETA: 1:22 - loss: 0.2359 - acc: 0.913 - ETA: 1:21 - loss: 0.2357 - acc: 0.913 - ETA: 1:20 - loss: 0.2354 - acc: 0.913 - ETA: 1:19 - loss: 0.2351 - acc: 0.913 - ETA: 1:18 - loss: 0.2349 - acc: 0.913 - ETA: 1:17 - loss: 0.2346 - acc: 0.913 - ETA: 1:16 - loss: 0.2344 - acc: 0.914 - ETA: 1:15 - loss: 0.2341 - acc: 0.914 - ETA: 1:14 - loss: 0.2338 - acc: 0.914 - ETA: 1:13 - loss: 0.2336 - acc: 0.914 - ETA: 1:12 - loss: 0.2334 - acc: 0.914 - ETA: 1:11 - loss: 0.2331 - acc: 0.914 - ETA: 1:10 - loss: 0.2328 - acc: 0.914 - ETA: 1:09 - loss: 0.2326 - acc: 0.914 - ETA: 1:08 - loss: 0.2324 - acc: 0.914 - ETA: 1:07 - loss: 0.2321 - acc: 0.914 - ETA: 1:06 - loss: 0.2318 - acc: 0.914 - ETA: 1:05 - loss: 0.2316 - acc: 0.915 - ETA: 1:04 - loss: 0.2313 - acc: 0.915186625/86625 [==============================] - ETA: 1:03 - loss: 0.2311 - acc: 0.915 - ETA: 1:02 - loss: 0.2309 - acc: 0.915 - ETA: 1:01 - loss: 0.2307 - acc: 0.915 - ETA: 1:00 - loss: 0.2305 - acc: 0.915 - ETA: 59s - loss: 0.2303 - acc: 0.915 - ETA: 58s - loss: 0.2300 - acc: 0.91 - ETA: 57s - loss: 0.2298 - acc: 0.91 - ETA: 56s - loss: 0.2296 - acc: 0.91 - ETA: 55s - loss: 0.2294 - acc: 0.91 - ETA: 54s - loss: 0.2292 - acc: 0.91 - ETA: 53s - loss: 0.2290 - acc: 0.91 - ETA: 52s - loss: 0.2287 - acc: 0.91 - ETA: 51s - loss: 0.2285 - acc: 0.91 - ETA: 50s - loss: 0.2283 - acc: 0.91 - ETA: 49s - loss: 0.2281 - acc: 0.91 - ETA: 48s - loss: 0.2279 - acc: 0.91 - ETA: 47s - loss: 0.2276 - acc: 0.91 - ETA: 46s - loss: 0.2274 - acc: 0.91 - ETA: 45s - loss: 0.2271 - acc: 0.91 - ETA: 44s - loss: 0.2269 - acc: 0.91 - ETA: 43s - loss: 0.2267 - acc: 0.91 - ETA: 42s - loss: 0.2265 - acc: 0.91 - ETA: 41s - loss: 0.2263 - acc: 0.91 - ETA: 40s - loss: 0.2261 - acc: 0.91 - ETA: 39s - loss: 0.2259 - acc: 0.91 - ETA: 38s - loss: 0.2257 - acc: 0.91 - ETA: 37s - loss: 0.2255 - acc: 0.91 - ETA: 36s - loss: 0.2253 - acc: 0.91 - ETA: 36s - loss: 0.2250 - acc: 0.91 - ETA: 35s - loss: 0.2248 - acc: 0.91 - ETA: 34s - loss: 0.2246 - acc: 0.91 - ETA: 33s - loss: 0.2243 - acc: 0.91 - ETA: 32s - loss: 0.2241 - acc: 0.91 - ETA: 31s - loss: 0.2239 - acc: 0.91 - ETA: 30s - loss: 0.2237 - acc: 0.91 - ETA: 29s - loss: 0.2235 - acc: 0.91 - ETA: 28s - loss: 0.2233 - acc: 0.91 - ETA: 27s - loss: 0.2231 - acc: 0.91 - ETA: 26s - loss: 0.2229 - acc: 0.91 - ETA: 25s - loss: 0.2227 - acc: 0.91 - ETA: 24s - loss: 0.2224 - acc: 0.91 - ETA: 23s - loss: 0.2222 - acc: 0.91 - ETA: 22s - loss: 0.2220 - acc: 0.91 - ETA: 21s - loss: 0.2218 - acc: 0.91 - ETA: 20s - loss: 0.2216 - acc: 0.91 - ETA: 19s - loss: 0.2214 - acc: 0.91 - ETA: 18s - loss: 0.2212 - acc: 0.91 - ETA: 17s - loss: 0.2210 - acc: 0.91 - ETA: 16s - loss: 0.2208 - acc: 0.91 - ETA: 15s - loss: 0.2206 - acc: 0.91 - ETA: 14s - loss: 0.2204 - acc: 0.91 - ETA: 13s - loss: 0.2202 - acc: 0.91 - ETA: 12s - loss: 0.2200 - acc: 0.91 - ETA: 11s - loss: 0.2198 - acc: 0.91 - ETA: 10s - loss: 0.2196 - acc: 0.91 - ETA: 9s - loss: 0.2194 - acc: 0.9195 - ETA: 8s - loss: 0.2191 - acc: 0.919 - ETA: 7s - loss: 0.2190 - acc: 0.919 - ETA: 6s - loss: 0.2187 - acc: 0.919 - ETA: 5s - loss: 0.2185 - acc: 0.919 - ETA: 4s - loss: 0.2183 - acc: 0.919 - ETA: 3s - loss: 0.2181 - acc: 0.919 - ETA: 2s - loss: 0.2179 - acc: 0.920 - ETA: 1s - loss: 0.2177 - acc: 0.920 - ETA: 0s - loss: 0.2175 - acc: 0.920 - 733s 8ms/step - loss: 0.2173 - acc: 0.9202 - val_loss: 0.0839 - val_acc: 0.9691\n",
      "Epoch 2/3\n"
     ]
    },
    {
     "name": "stdout",
     "output_type": "stream",
     "text": [
      "26112/86625 [========>.....................] - ETA: 11:15 - loss: 0.0564 - acc: 0.97 - ETA: 10:51 - loss: 0.0536 - acc: 0.98 - ETA: 10:52 - loss: 0.0629 - acc: 0.97 - ETA: 10:51 - loss: 0.0542 - acc: 0.98 - ETA: 10:55 - loss: 0.0568 - acc: 0.98 - ETA: 10:53 - loss: 0.0597 - acc: 0.98 - ETA: 10:54 - loss: 0.0603 - acc: 0.97 - ETA: 10:53 - loss: 0.0609 - acc: 0.97 - ETA: 10:51 - loss: 0.0596 - acc: 0.97 - ETA: 10:50 - loss: 0.0594 - acc: 0.97 - ETA: 10:47 - loss: 0.0592 - acc: 0.97 - ETA: 10:47 - loss: 0.0612 - acc: 0.97 - ETA: 10:46 - loss: 0.0605 - acc: 0.97 - ETA: 10:45 - loss: 0.0610 - acc: 0.97 - ETA: 10:44 - loss: 0.0621 - acc: 0.97 - ETA: 10:44 - loss: 0.0614 - acc: 0.97 - ETA: 10:43 - loss: 0.0637 - acc: 0.97 - ETA: 10:42 - loss: 0.0634 - acc: 0.97 - ETA: 10:41 - loss: 0.0645 - acc: 0.97 - ETA: 10:40 - loss: 0.0652 - acc: 0.97 - ETA: 10:38 - loss: 0.0652 - acc: 0.97 - ETA: 10:36 - loss: 0.0640 - acc: 0.97 - ETA: 10:35 - loss: 0.0654 - acc: 0.97 - ETA: 10:34 - loss: 0.0660 - acc: 0.97 - ETA: 10:34 - loss: 0.0658 - acc: 0.97 - ETA: 10:32 - loss: 0.0659 - acc: 0.97 - ETA: 10:32 - loss: 0.0664 - acc: 0.97 - ETA: 10:31 - loss: 0.0668 - acc: 0.97 - ETA: 10:30 - loss: 0.0674 - acc: 0.97 - ETA: 10:29 - loss: 0.0676 - acc: 0.97 - ETA: 10:29 - loss: 0.0671 - acc: 0.97 - ETA: 10:27 - loss: 0.0674 - acc: 0.97 - ETA: 10:25 - loss: 0.0681 - acc: 0.97 - ETA: 10:25 - loss: 0.0678 - acc: 0.97 - ETA: 10:24 - loss: 0.0677 - acc: 0.97 - ETA: 10:23 - loss: 0.0682 - acc: 0.97 - ETA: 10:22 - loss: 0.0682 - acc: 0.97 - ETA: 10:21 - loss: 0.0678 - acc: 0.97 - ETA: 10:20 - loss: 0.0674 - acc: 0.97 - ETA: 10:19 - loss: 0.0673 - acc: 0.97 - ETA: 10:18 - loss: 0.0673 - acc: 0.97 - ETA: 10:17 - loss: 0.0674 - acc: 0.97 - ETA: 10:16 - loss: 0.0670 - acc: 0.97 - ETA: 10:15 - loss: 0.0662 - acc: 0.97 - ETA: 10:14 - loss: 0.0658 - acc: 0.97 - ETA: 10:13 - loss: 0.0660 - acc: 0.97 - ETA: 10:12 - loss: 0.0665 - acc: 0.97 - ETA: 10:11 - loss: 0.0668 - acc: 0.97 - ETA: 10:10 - loss: 0.0670 - acc: 0.97 - ETA: 10:09 - loss: 0.0670 - acc: 0.97 - ETA: 10:08 - loss: 0.0666 - acc: 0.97 - ETA: 10:07 - loss: 0.0671 - acc: 0.97 - ETA: 10:06 - loss: 0.0670 - acc: 0.97 - ETA: 10:05 - loss: 0.0671 - acc: 0.97 - ETA: 10:04 - loss: 0.0669 - acc: 0.97 - ETA: 10:03 - loss: 0.0668 - acc: 0.97 - ETA: 10:02 - loss: 0.0668 - acc: 0.97 - ETA: 10:01 - loss: 0.0667 - acc: 0.97 - ETA: 10:00 - loss: 0.0665 - acc: 0.97 - ETA: 9:59 - loss: 0.0664 - acc: 0.9768 - ETA: 9:58 - loss: 0.0662 - acc: 0.976 - ETA: 9:57 - loss: 0.0658 - acc: 0.977 - ETA: 9:56 - loss: 0.0663 - acc: 0.976 - ETA: 9:55 - loss: 0.0662 - acc: 0.976 - ETA: 9:54 - loss: 0.0657 - acc: 0.976 - ETA: 9:53 - loss: 0.0657 - acc: 0.976 - ETA: 9:52 - loss: 0.0658 - acc: 0.976 - ETA: 9:51 - loss: 0.0656 - acc: 0.977 - ETA: 9:50 - loss: 0.0656 - acc: 0.977 - ETA: 9:49 - loss: 0.0654 - acc: 0.977 - ETA: 9:48 - loss: 0.0656 - acc: 0.977 - ETA: 9:47 - loss: 0.0655 - acc: 0.977 - ETA: 9:46 - loss: 0.0655 - acc: 0.977 - ETA: 9:45 - loss: 0.0656 - acc: 0.977 - ETA: 9:44 - loss: 0.0656 - acc: 0.977 - ETA: 9:43 - loss: 0.0654 - acc: 0.977 - ETA: 9:42 - loss: 0.0652 - acc: 0.977 - ETA: 9:42 - loss: 0.0652 - acc: 0.977 - ETA: 9:41 - loss: 0.0656 - acc: 0.977 - ETA: 9:40 - loss: 0.0656 - acc: 0.977 - ETA: 9:39 - loss: 0.0656 - acc: 0.977 - ETA: 9:38 - loss: 0.0659 - acc: 0.977 - ETA: 9:37 - loss: 0.0659 - acc: 0.977 - ETA: 9:35 - loss: 0.0658 - acc: 0.977 - ETA: 9:35 - loss: 0.0654 - acc: 0.977 - ETA: 9:34 - loss: 0.0652 - acc: 0.977 - ETA: 9:33 - loss: 0.0653 - acc: 0.977 - ETA: 9:32 - loss: 0.0651 - acc: 0.977 - ETA: 9:31 - loss: 0.0655 - acc: 0.977 - ETA: 9:30 - loss: 0.0653 - acc: 0.977 - ETA: 9:29 - loss: 0.0652 - acc: 0.977 - ETA: 9:28 - loss: 0.0648 - acc: 0.977 - ETA: 9:26 - loss: 0.0646 - acc: 0.977 - ETA: 9:25 - loss: 0.0644 - acc: 0.977 - ETA: 9:24 - loss: 0.0647 - acc: 0.977 - ETA: 9:24 - loss: 0.0647 - acc: 0.977 - ETA: 9:23 - loss: 0.0649 - acc: 0.977 - ETA: 9:22 - loss: 0.0649 - acc: 0.977 - ETA: 9:21 - loss: 0.0649 - acc: 0.977 - ETA: 9:20 - loss: 0.0649 - acc: 0.977 - ETA: 9:19 - loss: 0.0648 - acc: 0.977 - ETA: 9:18 - loss: 0.0648 - acc: 0.977 - ETA: 9:17 - loss: 0.0647 - acc: 0.977 - ETA: 9:16 - loss: 0.0647 - acc: 0.977 - ETA: 9:15 - loss: 0.0645 - acc: 0.977 - ETA: 9:14 - loss: 0.0646 - acc: 0.977 - ETA: 9:13 - loss: 0.0647 - acc: 0.977 - ETA: 9:12 - loss: 0.0648 - acc: 0.977 - ETA: 9:11 - loss: 0.0647 - acc: 0.977 - ETA: 9:10 - loss: 0.0648 - acc: 0.977 - ETA: 9:09 - loss: 0.0647 - acc: 0.977 - ETA: 9:08 - loss: 0.0649 - acc: 0.977 - ETA: 9:07 - loss: 0.0649 - acc: 0.977 - ETA: 9:06 - loss: 0.0648 - acc: 0.977 - ETA: 9:05 - loss: 0.0651 - acc: 0.977 - ETA: 9:04 - loss: 0.0651 - acc: 0.976 - ETA: 9:03 - loss: 0.0652 - acc: 0.976 - ETA: 9:02 - loss: 0.0651 - acc: 0.976 - ETA: 9:02 - loss: 0.0650 - acc: 0.976 - ETA: 9:01 - loss: 0.0649 - acc: 0.977 - ETA: 9:00 - loss: 0.0649 - acc: 0.977 - ETA: 8:59 - loss: 0.0650 - acc: 0.976 - ETA: 8:58 - loss: 0.0650 - acc: 0.976 - ETA: 8:57 - loss: 0.0651 - acc: 0.977 - ETA: 8:56 - loss: 0.0649 - acc: 0.977 - ETA: 8:55 - loss: 0.0648 - acc: 0.977 - ETA: 8:54 - loss: 0.0647 - acc: 0.977 - ETA: 8:53 - loss: 0.0647 - acc: 0.977 - ETA: 8:52 - loss: 0.0647 - acc: 0.977 - ETA: 8:51 - loss: 0.0649 - acc: 0.977 - ETA: 8:51 - loss: 0.0652 - acc: 0.976 - ETA: 8:50 - loss: 0.0651 - acc: 0.976 - ETA: 8:49 - loss: 0.0653 - acc: 0.976 - ETA: 8:48 - loss: 0.0653 - acc: 0.976 - ETA: 8:47 - loss: 0.0654 - acc: 0.976 - ETA: 8:46 - loss: 0.0653 - acc: 0.976 - ETA: 8:45 - loss: 0.0655 - acc: 0.976 - ETA: 8:44 - loss: 0.0656 - acc: 0.976 - ETA: 8:43 - loss: 0.0655 - acc: 0.976 - ETA: 8:42 - loss: 0.0655 - acc: 0.976 - ETA: 8:41 - loss: 0.0655 - acc: 0.976 - ETA: 8:40 - loss: 0.0653 - acc: 0.976 - ETA: 8:39 - loss: 0.0653 - acc: 0.976 - ETA: 8:38 - loss: 0.0652 - acc: 0.976 - ETA: 8:37 - loss: 0.0653 - acc: 0.976 - ETA: 8:36 - loss: 0.0651 - acc: 0.976 - ETA: 8:35 - loss: 0.0651 - acc: 0.976 - ETA: 8:34 - loss: 0.0650 - acc: 0.976 - ETA: 8:33 - loss: 0.0652 - acc: 0.976 - ETA: 8:32 - loss: 0.0654 - acc: 0.976 - ETA: 8:31 - loss: 0.0653 - acc: 0.976 - ETA: 8:30 - loss: 0.0653 - acc: 0.976 - ETA: 8:29 - loss: 0.0654 - acc: 0.976 - ETA: 8:28 - loss: 0.0654 - acc: 0.976 - ETA: 8:27 - loss: 0.0656 - acc: 0.976 - ETA: 8:26 - loss: 0.0655 - acc: 0.976 - ETA: 8:25 - loss: 0.0655 - acc: 0.976 - ETA: 8:24 - loss: 0.0654 - acc: 0.976 - ETA: 8:23 - loss: 0.0653 - acc: 0.976 - ETA: 8:23 - loss: 0.0654 - acc: 0.976 - ETA: 8:22 - loss: 0.0653 - acc: 0.976 - ETA: 8:21 - loss: 0.0654 - acc: 0.976 - ETA: 8:20 - loss: 0.0654 - acc: 0.976 - ETA: 8:19 - loss: 0.0656 - acc: 0.976 - ETA: 8:18 - loss: 0.0656 - acc: 0.976 - ETA: 8:17 - loss: 0.0655 - acc: 0.976 - ETA: 8:16 - loss: 0.0654 - acc: 0.976 - ETA: 8:15 - loss: 0.0654 - acc: 0.976 - ETA: 8:14 - loss: 0.0653 - acc: 0.976 - ETA: 8:13 - loss: 0.0654 - acc: 0.976 - ETA: 8:12 - loss: 0.0654 - acc: 0.976 - ETA: 8:11 - loss: 0.0653 - acc: 0.976 - ETA: 8:10 - loss: 0.0652 - acc: 0.976 - ETA: 8:09 - loss: 0.0653 - acc: 0.976 - ETA: 8:08 - loss: 0.0654 - acc: 0.976 - ETA: 8:07 - loss: 0.0654 - acc: 0.976 - ETA: 8:06 - loss: 0.0655 - acc: 0.976 - ETA: 8:05 - loss: 0.0654 - acc: 0.976 - ETA: 8:04 - loss: 0.0654 - acc: 0.976 - ETA: 8:03 - loss: 0.0655 - acc: 0.976 - ETA: 8:02 - loss: 0.0654 - acc: 0.976 - ETA: 8:01 - loss: 0.0654 - acc: 0.976 - ETA: 8:00 - loss: 0.0654 - acc: 0.976 - ETA: 7:59 - loss: 0.0654 - acc: 0.976 - ETA: 7:58 - loss: 0.0653 - acc: 0.976 - ETA: 7:57 - loss: 0.0653 - acc: 0.976 - ETA: 7:56 - loss: 0.0651 - acc: 0.976 - ETA: 7:55 - loss: 0.0653 - acc: 0.976 - ETA: 7:54 - loss: 0.0653 - acc: 0.976 - ETA: 7:53 - loss: 0.0652 - acc: 0.976 - ETA: 7:52 - loss: 0.0652 - acc: 0.976 - ETA: 7:51 - loss: 0.0652 - acc: 0.976 - ETA: 7:50 - loss: 0.0652 - acc: 0.976 - ETA: 7:49 - loss: 0.0651 - acc: 0.976 - ETA: 7:48 - loss: 0.0652 - acc: 0.976 - ETA: 7:47 - loss: 0.0651 - acc: 0.976 - ETA: 7:46 - loss: 0.0651 - acc: 0.976 - ETA: 7:45 - loss: 0.0650 - acc: 0.976 - ETA: 7:44 - loss: 0.0651 - acc: 0.976 - ETA: 7:43 - loss: 0.0651 - acc: 0.976 - ETA: 7:43 - loss: 0.0650 - acc: 0.976 - ETA: 7:42 - loss: 0.0649 - acc: 0.976 - ETA: 7:41 - loss: 0.0649 - acc: 0.976 - ETA: 7:40 - loss: 0.0649 - acc: 0.976952224/86625 [=================>............] - ETA: 7:39 - loss: 0.0649 - acc: 0.976 - ETA: 7:38 - loss: 0.0648 - acc: 0.976 - ETA: 7:37 - loss: 0.0648 - acc: 0.976 - ETA: 7:36 - loss: 0.0647 - acc: 0.976 - ETA: 7:35 - loss: 0.0646 - acc: 0.977 - ETA: 7:34 - loss: 0.0646 - acc: 0.976 - ETA: 7:33 - loss: 0.0646 - acc: 0.977 - ETA: 7:32 - loss: 0.0645 - acc: 0.977 - ETA: 7:31 - loss: 0.0644 - acc: 0.977 - ETA: 7:30 - loss: 0.0644 - acc: 0.977 - ETA: 7:29 - loss: 0.0644 - acc: 0.977 - ETA: 7:28 - loss: 0.0646 - acc: 0.977 - ETA: 7:27 - loss: 0.0646 - acc: 0.977 - ETA: 7:26 - loss: 0.0647 - acc: 0.976 - ETA: 7:25 - loss: 0.0647 - acc: 0.976 - ETA: 7:24 - loss: 0.0645 - acc: 0.977 - ETA: 7:23 - loss: 0.0646 - acc: 0.977 - ETA: 7:22 - loss: 0.0646 - acc: 0.976 - ETA: 7:21 - loss: 0.0646 - acc: 0.976 - ETA: 7:20 - loss: 0.0647 - acc: 0.976 - ETA: 7:19 - loss: 0.0648 - acc: 0.976 - ETA: 7:18 - loss: 0.0649 - acc: 0.976 - ETA: 7:17 - loss: 0.0650 - acc: 0.976 - ETA: 7:16 - loss: 0.0650 - acc: 0.976 - ETA: 7:15 - loss: 0.0650 - acc: 0.976 - ETA: 7:14 - loss: 0.0650 - acc: 0.976 - ETA: 7:14 - loss: 0.0649 - acc: 0.976 - ETA: 7:12 - loss: 0.0649 - acc: 0.976 - ETA: 7:12 - loss: 0.0648 - acc: 0.976 - ETA: 7:11 - loss: 0.0649 - acc: 0.976 - ETA: 7:10 - loss: 0.0649 - acc: 0.976 - ETA: 7:09 - loss: 0.0649 - acc: 0.976 - ETA: 7:08 - loss: 0.0649 - acc: 0.976 - ETA: 7:07 - loss: 0.0648 - acc: 0.976 - ETA: 7:06 - loss: 0.0648 - acc: 0.976 - ETA: 7:05 - loss: 0.0648 - acc: 0.976 - ETA: 7:04 - loss: 0.0649 - acc: 0.976 - ETA: 7:03 - loss: 0.0648 - acc: 0.976 - ETA: 7:02 - loss: 0.0648 - acc: 0.976 - ETA: 7:01 - loss: 0.0648 - acc: 0.976 - ETA: 7:00 - loss: 0.0650 - acc: 0.976 - ETA: 6:59 - loss: 0.0650 - acc: 0.976 - ETA: 6:58 - loss: 0.0650 - acc: 0.976 - ETA: 6:57 - loss: 0.0649 - acc: 0.976 - ETA: 6:56 - loss: 0.0648 - acc: 0.976 - ETA: 6:55 - loss: 0.0649 - acc: 0.976 - ETA: 6:54 - loss: 0.0649 - acc: 0.976 - ETA: 6:53 - loss: 0.0648 - acc: 0.976 - ETA: 6:52 - loss: 0.0648 - acc: 0.976 - ETA: 6:51 - loss: 0.0646 - acc: 0.976 - ETA: 6:50 - loss: 0.0647 - acc: 0.976 - ETA: 6:49 - loss: 0.0646 - acc: 0.976 - ETA: 6:48 - loss: 0.0645 - acc: 0.976 - ETA: 6:47 - loss: 0.0645 - acc: 0.976 - ETA: 6:46 - loss: 0.0645 - acc: 0.976 - ETA: 6:45 - loss: 0.0645 - acc: 0.976 - ETA: 6:44 - loss: 0.0645 - acc: 0.977 - ETA: 6:43 - loss: 0.0644 - acc: 0.977 - ETA: 6:42 - loss: 0.0644 - acc: 0.977 - ETA: 6:41 - loss: 0.0643 - acc: 0.977 - ETA: 6:40 - loss: 0.0642 - acc: 0.977 - ETA: 6:39 - loss: 0.0642 - acc: 0.977 - ETA: 6:38 - loss: 0.0642 - acc: 0.977 - ETA: 6:37 - loss: 0.0642 - acc: 0.977 - ETA: 6:36 - loss: 0.0642 - acc: 0.977 - ETA: 6:35 - loss: 0.0642 - acc: 0.977 - ETA: 6:35 - loss: 0.0643 - acc: 0.977 - ETA: 6:34 - loss: 0.0642 - acc: 0.977 - ETA: 6:33 - loss: 0.0644 - acc: 0.976 - ETA: 6:32 - loss: 0.0644 - acc: 0.976 - ETA: 6:31 - loss: 0.0644 - acc: 0.976 - ETA: 6:30 - loss: 0.0644 - acc: 0.976 - ETA: 6:29 - loss: 0.0645 - acc: 0.976 - ETA: 6:28 - loss: 0.0645 - acc: 0.976 - ETA: 6:27 - loss: 0.0645 - acc: 0.976 - ETA: 6:26 - loss: 0.0644 - acc: 0.976 - ETA: 6:25 - loss: 0.0644 - acc: 0.976 - ETA: 6:24 - loss: 0.0644 - acc: 0.976 - ETA: 6:23 - loss: 0.0644 - acc: 0.976 - ETA: 6:22 - loss: 0.0644 - acc: 0.976 - ETA: 6:21 - loss: 0.0643 - acc: 0.976 - ETA: 6:20 - loss: 0.0643 - acc: 0.977 - ETA: 6:19 - loss: 0.0642 - acc: 0.977 - ETA: 6:18 - loss: 0.0642 - acc: 0.977 - ETA: 6:17 - loss: 0.0641 - acc: 0.977 - ETA: 6:16 - loss: 0.0641 - acc: 0.977 - ETA: 6:15 - loss: 0.0641 - acc: 0.977 - ETA: 6:14 - loss: 0.0641 - acc: 0.977 - ETA: 6:13 - loss: 0.0641 - acc: 0.977 - ETA: 6:12 - loss: 0.0641 - acc: 0.977 - ETA: 6:11 - loss: 0.0641 - acc: 0.977 - ETA: 6:10 - loss: 0.0641 - acc: 0.977 - ETA: 6:09 - loss: 0.0640 - acc: 0.977 - ETA: 6:08 - loss: 0.0640 - acc: 0.977 - ETA: 6:07 - loss: 0.0641 - acc: 0.977 - ETA: 6:06 - loss: 0.0640 - acc: 0.977 - ETA: 6:05 - loss: 0.0641 - acc: 0.977 - ETA: 6:04 - loss: 0.0641 - acc: 0.977 - ETA: 6:03 - loss: 0.0640 - acc: 0.977 - ETA: 6:02 - loss: 0.0641 - acc: 0.977 - ETA: 6:01 - loss: 0.0642 - acc: 0.976 - ETA: 6:01 - loss: 0.0641 - acc: 0.976 - ETA: 6:00 - loss: 0.0642 - acc: 0.976 - ETA: 5:59 - loss: 0.0642 - acc: 0.976 - ETA: 5:58 - loss: 0.0642 - acc: 0.977 - ETA: 5:57 - loss: 0.0642 - acc: 0.977 - ETA: 5:56 - loss: 0.0641 - acc: 0.977 - ETA: 5:55 - loss: 0.0641 - acc: 0.977 - ETA: 5:54 - loss: 0.0640 - acc: 0.977 - ETA: 5:53 - loss: 0.0640 - acc: 0.977 - ETA: 5:52 - loss: 0.0640 - acc: 0.977 - ETA: 5:51 - loss: 0.0640 - acc: 0.977 - ETA: 5:50 - loss: 0.0640 - acc: 0.977 - ETA: 5:49 - loss: 0.0640 - acc: 0.977 - ETA: 5:48 - loss: 0.0640 - acc: 0.977 - ETA: 5:47 - loss: 0.0641 - acc: 0.977 - ETA: 5:46 - loss: 0.0640 - acc: 0.977 - ETA: 5:45 - loss: 0.0640 - acc: 0.977 - ETA: 5:44 - loss: 0.0640 - acc: 0.977 - ETA: 5:43 - loss: 0.0641 - acc: 0.977 - ETA: 5:42 - loss: 0.0640 - acc: 0.977 - ETA: 5:41 - loss: 0.0641 - acc: 0.977 - ETA: 5:40 - loss: 0.0642 - acc: 0.977 - ETA: 5:39 - loss: 0.0642 - acc: 0.977 - ETA: 5:38 - loss: 0.0642 - acc: 0.976 - ETA: 5:37 - loss: 0.0643 - acc: 0.976 - ETA: 5:36 - loss: 0.0643 - acc: 0.976 - ETA: 5:35 - loss: 0.0642 - acc: 0.976 - ETA: 5:34 - loss: 0.0643 - acc: 0.976 - ETA: 5:33 - loss: 0.0643 - acc: 0.976 - ETA: 5:33 - loss: 0.0643 - acc: 0.976 - ETA: 5:32 - loss: 0.0643 - acc: 0.976 - ETA: 5:31 - loss: 0.0643 - acc: 0.976 - ETA: 5:30 - loss: 0.0642 - acc: 0.976 - ETA: 5:29 - loss: 0.0642 - acc: 0.976 - ETA: 5:28 - loss: 0.0642 - acc: 0.976 - ETA: 5:27 - loss: 0.0642 - acc: 0.976 - ETA: 5:26 - loss: 0.0642 - acc: 0.976 - ETA: 5:25 - loss: 0.0641 - acc: 0.977 - ETA: 5:24 - loss: 0.0641 - acc: 0.977 - ETA: 5:23 - loss: 0.0641 - acc: 0.977 - ETA: 5:22 - loss: 0.0641 - acc: 0.977 - ETA: 5:21 - loss: 0.0640 - acc: 0.977 - ETA: 5:20 - loss: 0.0641 - acc: 0.977 - ETA: 5:19 - loss: 0.0640 - acc: 0.977 - ETA: 5:18 - loss: 0.0640 - acc: 0.977 - ETA: 5:17 - loss: 0.0640 - acc: 0.977 - ETA: 5:16 - loss: 0.0640 - acc: 0.977 - ETA: 5:15 - loss: 0.0640 - acc: 0.977 - ETA: 5:14 - loss: 0.0639 - acc: 0.977 - ETA: 5:13 - loss: 0.0639 - acc: 0.977 - ETA: 5:12 - loss: 0.0639 - acc: 0.977 - ETA: 5:11 - loss: 0.0639 - acc: 0.977 - ETA: 5:10 - loss: 0.0638 - acc: 0.977 - ETA: 5:09 - loss: 0.0639 - acc: 0.977 - ETA: 5:08 - loss: 0.0639 - acc: 0.977 - ETA: 5:07 - loss: 0.0638 - acc: 0.977 - ETA: 5:06 - loss: 0.0638 - acc: 0.977 - ETA: 5:05 - loss: 0.0638 - acc: 0.977 - ETA: 5:04 - loss: 0.0637 - acc: 0.977 - ETA: 5:03 - loss: 0.0637 - acc: 0.977 - ETA: 5:02 - loss: 0.0637 - acc: 0.977 - ETA: 5:01 - loss: 0.0637 - acc: 0.977 - ETA: 5:00 - loss: 0.0636 - acc: 0.977 - ETA: 4:59 - loss: 0.0636 - acc: 0.977 - ETA: 4:58 - loss: 0.0636 - acc: 0.977 - ETA: 4:57 - loss: 0.0637 - acc: 0.977 - ETA: 4:56 - loss: 0.0637 - acc: 0.977 - ETA: 4:55 - loss: 0.0637 - acc: 0.977 - ETA: 4:54 - loss: 0.0637 - acc: 0.977 - ETA: 4:53 - loss: 0.0637 - acc: 0.977 - ETA: 4:52 - loss: 0.0637 - acc: 0.977 - ETA: 4:51 - loss: 0.0637 - acc: 0.977 - ETA: 4:51 - loss: 0.0637 - acc: 0.977 - ETA: 4:50 - loss: 0.0637 - acc: 0.977 - ETA: 4:49 - loss: 0.0637 - acc: 0.977 - ETA: 4:48 - loss: 0.0637 - acc: 0.977 - ETA: 4:47 - loss: 0.0637 - acc: 0.977 - ETA: 4:46 - loss: 0.0637 - acc: 0.977 - ETA: 4:45 - loss: 0.0636 - acc: 0.977 - ETA: 4:44 - loss: 0.0636 - acc: 0.977 - ETA: 4:43 - loss: 0.0635 - acc: 0.977 - ETA: 4:42 - loss: 0.0635 - acc: 0.977 - ETA: 4:41 - loss: 0.0635 - acc: 0.977 - ETA: 4:40 - loss: 0.0634 - acc: 0.977 - ETA: 4:39 - loss: 0.0634 - acc: 0.977 - ETA: 4:38 - loss: 0.0634 - acc: 0.977 - ETA: 4:37 - loss: 0.0633 - acc: 0.977 - ETA: 4:36 - loss: 0.0633 - acc: 0.977 - ETA: 4:35 - loss: 0.0633 - acc: 0.977 - ETA: 4:34 - loss: 0.0634 - acc: 0.977 - ETA: 4:33 - loss: 0.0634 - acc: 0.977 - ETA: 4:32 - loss: 0.0633 - acc: 0.977 - ETA: 4:31 - loss: 0.0633 - acc: 0.977 - ETA: 4:30 - loss: 0.0633 - acc: 0.977 - ETA: 4:29 - loss: 0.0633 - acc: 0.977 - ETA: 4:28 - loss: 0.0632 - acc: 0.977 - ETA: 4:27 - loss: 0.0633 - acc: 0.977 - ETA: 4:26 - loss: 0.0632 - acc: 0.977 - ETA: 4:25 - loss: 0.0633 - acc: 0.977 - ETA: 4:24 - loss: 0.0633 - acc: 0.977 - ETA: 4:23 - loss: 0.0633 - acc: 0.977 - ETA: 4:22 - loss: 0.0632 - acc: 0.977 - ETA: 4:21 - loss: 0.0632 - acc: 0.977278336/86625 [==========================>...] - ETA: 4:20 - loss: 0.0632 - acc: 0.977 - ETA: 4:19 - loss: 0.0633 - acc: 0.977 - ETA: 4:18 - loss: 0.0633 - acc: 0.977 - ETA: 4:17 - loss: 0.0633 - acc: 0.977 - ETA: 4:17 - loss: 0.0633 - acc: 0.977 - ETA: 4:16 - loss: 0.0633 - acc: 0.977 - ETA: 4:15 - loss: 0.0632 - acc: 0.977 - ETA: 4:14 - loss: 0.0633 - acc: 0.977 - ETA: 4:13 - loss: 0.0632 - acc: 0.977 - ETA: 4:12 - loss: 0.0632 - acc: 0.977 - ETA: 4:11 - loss: 0.0632 - acc: 0.977 - ETA: 4:10 - loss: 0.0632 - acc: 0.977 - ETA: 4:09 - loss: 0.0632 - acc: 0.977 - ETA: 4:08 - loss: 0.0632 - acc: 0.977 - ETA: 4:07 - loss: 0.0633 - acc: 0.977 - ETA: 4:06 - loss: 0.0634 - acc: 0.977 - ETA: 4:05 - loss: 0.0634 - acc: 0.977 - ETA: 4:04 - loss: 0.0634 - acc: 0.977 - ETA: 4:03 - loss: 0.0634 - acc: 0.977 - ETA: 4:02 - loss: 0.0634 - acc: 0.977 - ETA: 4:01 - loss: 0.0634 - acc: 0.977 - ETA: 4:00 - loss: 0.0634 - acc: 0.977 - ETA: 3:59 - loss: 0.0634 - acc: 0.977 - ETA: 3:58 - loss: 0.0634 - acc: 0.977 - ETA: 3:57 - loss: 0.0634 - acc: 0.977 - ETA: 3:56 - loss: 0.0633 - acc: 0.977 - ETA: 3:55 - loss: 0.0634 - acc: 0.977 - ETA: 3:54 - loss: 0.0634 - acc: 0.977 - ETA: 3:53 - loss: 0.0634 - acc: 0.977 - ETA: 3:52 - loss: 0.0633 - acc: 0.977 - ETA: 3:51 - loss: 0.0634 - acc: 0.977 - ETA: 3:50 - loss: 0.0634 - acc: 0.977 - ETA: 3:49 - loss: 0.0634 - acc: 0.977 - ETA: 3:48 - loss: 0.0634 - acc: 0.977 - ETA: 3:47 - loss: 0.0634 - acc: 0.977 - ETA: 3:46 - loss: 0.0633 - acc: 0.977 - ETA: 3:45 - loss: 0.0633 - acc: 0.977 - ETA: 3:44 - loss: 0.0633 - acc: 0.977 - ETA: 3:43 - loss: 0.0632 - acc: 0.977 - ETA: 3:42 - loss: 0.0632 - acc: 0.977 - ETA: 3:41 - loss: 0.0631 - acc: 0.977 - ETA: 3:40 - loss: 0.0631 - acc: 0.977 - ETA: 3:40 - loss: 0.0631 - acc: 0.977 - ETA: 3:39 - loss: 0.0630 - acc: 0.977 - ETA: 3:38 - loss: 0.0630 - acc: 0.977 - ETA: 3:37 - loss: 0.0630 - acc: 0.977 - ETA: 3:36 - loss: 0.0630 - acc: 0.977 - ETA: 3:35 - loss: 0.0630 - acc: 0.977 - ETA: 3:34 - loss: 0.0630 - acc: 0.977 - ETA: 3:33 - loss: 0.0630 - acc: 0.977 - ETA: 3:32 - loss: 0.0630 - acc: 0.977 - ETA: 3:31 - loss: 0.0629 - acc: 0.977 - ETA: 3:30 - loss: 0.0629 - acc: 0.977 - ETA: 3:29 - loss: 0.0629 - acc: 0.977 - ETA: 3:28 - loss: 0.0628 - acc: 0.977 - ETA: 3:27 - loss: 0.0628 - acc: 0.977 - ETA: 3:26 - loss: 0.0628 - acc: 0.977 - ETA: 3:25 - loss: 0.0628 - acc: 0.977 - ETA: 3:24 - loss: 0.0627 - acc: 0.977 - ETA: 3:23 - loss: 0.0627 - acc: 0.977 - ETA: 3:22 - loss: 0.0628 - acc: 0.977 - ETA: 3:21 - loss: 0.0627 - acc: 0.977 - ETA: 3:20 - loss: 0.0627 - acc: 0.977 - ETA: 3:19 - loss: 0.0627 - acc: 0.977 - ETA: 3:18 - loss: 0.0627 - acc: 0.977 - ETA: 3:17 - loss: 0.0627 - acc: 0.977 - ETA: 3:16 - loss: 0.0627 - acc: 0.977 - ETA: 3:15 - loss: 0.0627 - acc: 0.977 - ETA: 3:14 - loss: 0.0626 - acc: 0.977 - ETA: 3:13 - loss: 0.0626 - acc: 0.977 - ETA: 3:12 - loss: 0.0627 - acc: 0.977 - ETA: 3:11 - loss: 0.0627 - acc: 0.977 - ETA: 3:10 - loss: 0.0627 - acc: 0.977 - ETA: 3:09 - loss: 0.0627 - acc: 0.977 - ETA: 3:08 - loss: 0.0626 - acc: 0.977 - ETA: 3:07 - loss: 0.0626 - acc: 0.977 - ETA: 3:06 - loss: 0.0626 - acc: 0.977 - ETA: 3:05 - loss: 0.0626 - acc: 0.977 - ETA: 3:04 - loss: 0.0625 - acc: 0.977 - ETA: 3:03 - loss: 0.0625 - acc: 0.977 - ETA: 3:02 - loss: 0.0625 - acc: 0.977 - ETA: 3:01 - loss: 0.0626 - acc: 0.977 - ETA: 3:01 - loss: 0.0626 - acc: 0.977 - ETA: 3:00 - loss: 0.0626 - acc: 0.977 - ETA: 2:59 - loss: 0.0625 - acc: 0.977 - ETA: 2:58 - loss: 0.0625 - acc: 0.977 - ETA: 2:57 - loss: 0.0625 - acc: 0.977 - ETA: 2:56 - loss: 0.0625 - acc: 0.977 - ETA: 2:55 - loss: 0.0625 - acc: 0.977 - ETA: 2:54 - loss: 0.0625 - acc: 0.977 - ETA: 2:53 - loss: 0.0625 - acc: 0.977 - ETA: 2:52 - loss: 0.0625 - acc: 0.977 - ETA: 2:51 - loss: 0.0625 - acc: 0.977 - ETA: 2:50 - loss: 0.0625 - acc: 0.977 - ETA: 2:49 - loss: 0.0625 - acc: 0.977 - ETA: 2:48 - loss: 0.0625 - acc: 0.977 - ETA: 2:47 - loss: 0.0624 - acc: 0.977 - ETA: 2:46 - loss: 0.0624 - acc: 0.977 - ETA: 2:45 - loss: 0.0624 - acc: 0.977 - ETA: 2:44 - loss: 0.0624 - acc: 0.977 - ETA: 2:43 - loss: 0.0624 - acc: 0.977 - ETA: 2:42 - loss: 0.0624 - acc: 0.977 - ETA: 2:41 - loss: 0.0623 - acc: 0.977 - ETA: 2:40 - loss: 0.0624 - acc: 0.977 - ETA: 2:39 - loss: 0.0623 - acc: 0.977 - ETA: 2:38 - loss: 0.0623 - acc: 0.977 - ETA: 2:37 - loss: 0.0623 - acc: 0.977 - ETA: 2:36 - loss: 0.0623 - acc: 0.977 - ETA: 2:35 - loss: 0.0623 - acc: 0.977 - ETA: 2:34 - loss: 0.0623 - acc: 0.977 - ETA: 2:33 - loss: 0.0623 - acc: 0.977 - ETA: 2:32 - loss: 0.0623 - acc: 0.977 - ETA: 2:31 - loss: 0.0623 - acc: 0.977 - ETA: 2:30 - loss: 0.0623 - acc: 0.977 - ETA: 2:29 - loss: 0.0623 - acc: 0.977 - ETA: 2:28 - loss: 0.0623 - acc: 0.977 - ETA: 2:27 - loss: 0.0623 - acc: 0.977 - ETA: 2:26 - loss: 0.0623 - acc: 0.977 - ETA: 2:25 - loss: 0.0623 - acc: 0.977 - ETA: 2:24 - loss: 0.0623 - acc: 0.977 - ETA: 2:23 - loss: 0.0623 - acc: 0.977 - ETA: 2:22 - loss: 0.0623 - acc: 0.977 - ETA: 2:22 - loss: 0.0623 - acc: 0.977 - ETA: 2:21 - loss: 0.0623 - acc: 0.977 - ETA: 2:20 - loss: 0.0622 - acc: 0.977 - ETA: 2:19 - loss: 0.0622 - acc: 0.977 - ETA: 2:18 - loss: 0.0622 - acc: 0.977 - ETA: 2:17 - loss: 0.0622 - acc: 0.977 - ETA: 2:16 - loss: 0.0621 - acc: 0.977 - ETA: 2:15 - loss: 0.0621 - acc: 0.977 - ETA: 2:14 - loss: 0.0621 - acc: 0.977 - ETA: 2:13 - loss: 0.0621 - acc: 0.977 - ETA: 2:12 - loss: 0.0621 - acc: 0.977 - ETA: 2:11 - loss: 0.0622 - acc: 0.977 - ETA: 2:10 - loss: 0.0622 - acc: 0.977 - ETA: 2:09 - loss: 0.0622 - acc: 0.977 - ETA: 2:08 - loss: 0.0621 - acc: 0.977 - ETA: 2:07 - loss: 0.0621 - acc: 0.977 - ETA: 2:06 - loss: 0.0622 - acc: 0.977 - ETA: 2:05 - loss: 0.0622 - acc: 0.977 - ETA: 2:04 - loss: 0.0621 - acc: 0.977 - ETA: 2:03 - loss: 0.0621 - acc: 0.977 - ETA: 2:02 - loss: 0.0621 - acc: 0.977 - ETA: 2:01 - loss: 0.0621 - acc: 0.977 - ETA: 2:00 - loss: 0.0620 - acc: 0.977 - ETA: 1:59 - loss: 0.0621 - acc: 0.977 - ETA: 1:58 - loss: 0.0621 - acc: 0.977 - ETA: 1:57 - loss: 0.0620 - acc: 0.977 - ETA: 1:56 - loss: 0.0620 - acc: 0.977 - ETA: 1:55 - loss: 0.0621 - acc: 0.977 - ETA: 1:54 - loss: 0.0621 - acc: 0.977 - ETA: 1:53 - loss: 0.0620 - acc: 0.977 - ETA: 1:52 - loss: 0.0620 - acc: 0.977 - ETA: 1:51 - loss: 0.0620 - acc: 0.977 - ETA: 1:50 - loss: 0.0620 - acc: 0.977 - ETA: 1:49 - loss: 0.0620 - acc: 0.977 - ETA: 1:48 - loss: 0.0620 - acc: 0.977 - ETA: 1:47 - loss: 0.0620 - acc: 0.977 - ETA: 1:46 - loss: 0.0620 - acc: 0.977 - ETA: 1:45 - loss: 0.0620 - acc: 0.977 - ETA: 1:44 - loss: 0.0619 - acc: 0.977 - ETA: 1:44 - loss: 0.0620 - acc: 0.977 - ETA: 1:43 - loss: 0.0620 - acc: 0.977 - ETA: 1:42 - loss: 0.0620 - acc: 0.977 - ETA: 1:41 - loss: 0.0619 - acc: 0.977 - ETA: 1:40 - loss: 0.0619 - acc: 0.977 - ETA: 1:39 - loss: 0.0619 - acc: 0.977 - ETA: 1:38 - loss: 0.0619 - acc: 0.977 - ETA: 1:37 - loss: 0.0619 - acc: 0.977 - ETA: 1:36 - loss: 0.0619 - acc: 0.977 - ETA: 1:35 - loss: 0.0618 - acc: 0.977 - ETA: 1:34 - loss: 0.0618 - acc: 0.977 - ETA: 1:33 - loss: 0.0618 - acc: 0.977 - ETA: 1:32 - loss: 0.0618 - acc: 0.977 - ETA: 1:31 - loss: 0.0618 - acc: 0.977 - ETA: 1:30 - loss: 0.0618 - acc: 0.977 - ETA: 1:29 - loss: 0.0618 - acc: 0.977 - ETA: 1:28 - loss: 0.0618 - acc: 0.977 - ETA: 1:27 - loss: 0.0617 - acc: 0.977 - ETA: 1:26 - loss: 0.0617 - acc: 0.977 - ETA: 1:25 - loss: 0.0617 - acc: 0.977 - ETA: 1:24 - loss: 0.0617 - acc: 0.977 - ETA: 1:23 - loss: 0.0617 - acc: 0.977 - ETA: 1:22 - loss: 0.0617 - acc: 0.977 - ETA: 1:21 - loss: 0.0617 - acc: 0.977 - ETA: 1:20 - loss: 0.0617 - acc: 0.977 - ETA: 1:19 - loss: 0.0617 - acc: 0.977 - ETA: 1:18 - loss: 0.0617 - acc: 0.977 - ETA: 1:17 - loss: 0.0617 - acc: 0.977 - ETA: 1:16 - loss: 0.0617 - acc: 0.977 - ETA: 1:15 - loss: 0.0617 - acc: 0.977 - ETA: 1:14 - loss: 0.0617 - acc: 0.977 - ETA: 1:13 - loss: 0.0617 - acc: 0.977 - ETA: 1:12 - loss: 0.0617 - acc: 0.977 - ETA: 1:11 - loss: 0.0617 - acc: 0.977 - ETA: 1:10 - loss: 0.0616 - acc: 0.977 - ETA: 1:09 - loss: 0.0616 - acc: 0.977 - ETA: 1:08 - loss: 0.0616 - acc: 0.977 - ETA: 1:07 - loss: 0.0616 - acc: 0.977 - ETA: 1:06 - loss: 0.0616 - acc: 0.977 - ETA: 1:05 - loss: 0.0616 - acc: 0.977 - ETA: 1:05 - loss: 0.0615 - acc: 0.977 - ETA: 1:04 - loss: 0.0615 - acc: 0.977 - ETA: 1:03 - loss: 0.0615 - acc: 0.9779"
     ]
    },
    {
     "name": "stdout",
     "output_type": "stream",
     "text": [
      "86625/86625 [==============================] - ETA: 1:02 - loss: 0.0615 - acc: 0.977 - ETA: 1:01 - loss: 0.0615 - acc: 0.977 - ETA: 1:00 - loss: 0.0615 - acc: 0.977 - ETA: 59s - loss: 0.0615 - acc: 0.977 - ETA: 58s - loss: 0.0615 - acc: 0.97 - ETA: 57s - loss: 0.0615 - acc: 0.97 - ETA: 56s - loss: 0.0615 - acc: 0.97 - ETA: 55s - loss: 0.0615 - acc: 0.97 - ETA: 54s - loss: 0.0615 - acc: 0.97 - ETA: 53s - loss: 0.0615 - acc: 0.97 - ETA: 52s - loss: 0.0615 - acc: 0.97 - ETA: 51s - loss: 0.0615 - acc: 0.97 - ETA: 50s - loss: 0.0615 - acc: 0.97 - ETA: 49s - loss: 0.0615 - acc: 0.97 - ETA: 48s - loss: 0.0615 - acc: 0.97 - ETA: 47s - loss: 0.0615 - acc: 0.97 - ETA: 46s - loss: 0.0615 - acc: 0.97 - ETA: 45s - loss: 0.0615 - acc: 0.97 - ETA: 44s - loss: 0.0614 - acc: 0.97 - ETA: 43s - loss: 0.0614 - acc: 0.97 - ETA: 42s - loss: 0.0614 - acc: 0.97 - ETA: 41s - loss: 0.0615 - acc: 0.97 - ETA: 40s - loss: 0.0614 - acc: 0.97 - ETA: 39s - loss: 0.0614 - acc: 0.97 - ETA: 38s - loss: 0.0614 - acc: 0.97 - ETA: 37s - loss: 0.0614 - acc: 0.97 - ETA: 36s - loss: 0.0614 - acc: 0.97 - ETA: 35s - loss: 0.0614 - acc: 0.97 - ETA: 34s - loss: 0.0614 - acc: 0.97 - ETA: 33s - loss: 0.0614 - acc: 0.97 - ETA: 32s - loss: 0.0614 - acc: 0.97 - ETA: 31s - loss: 0.0614 - acc: 0.97 - ETA: 30s - loss: 0.0614 - acc: 0.97 - ETA: 29s - loss: 0.0614 - acc: 0.97 - ETA: 28s - loss: 0.0614 - acc: 0.97 - ETA: 28s - loss: 0.0614 - acc: 0.97 - ETA: 27s - loss: 0.0614 - acc: 0.97 - ETA: 26s - loss: 0.0613 - acc: 0.97 - ETA: 25s - loss: 0.0614 - acc: 0.97 - ETA: 24s - loss: 0.0614 - acc: 0.97 - ETA: 23s - loss: 0.0613 - acc: 0.97 - ETA: 22s - loss: 0.0613 - acc: 0.97 - ETA: 21s - loss: 0.0613 - acc: 0.97 - ETA: 20s - loss: 0.0613 - acc: 0.97 - ETA: 19s - loss: 0.0613 - acc: 0.97 - ETA: 18s - loss: 0.0613 - acc: 0.97 - ETA: 17s - loss: 0.0613 - acc: 0.97 - ETA: 16s - loss: 0.0613 - acc: 0.97 - ETA: 15s - loss: 0.0612 - acc: 0.97 - ETA: 14s - loss: 0.0613 - acc: 0.97 - ETA: 13s - loss: 0.0613 - acc: 0.97 - ETA: 12s - loss: 0.0612 - acc: 0.97 - ETA: 11s - loss: 0.0612 - acc: 0.97 - ETA: 10s - loss: 0.0612 - acc: 0.97 - ETA: 9s - loss: 0.0612 - acc: 0.9780 - ETA: 8s - loss: 0.0612 - acc: 0.978 - ETA: 7s - loss: 0.0612 - acc: 0.978 - ETA: 6s - loss: 0.0611 - acc: 0.978 - ETA: 5s - loss: 0.0611 - acc: 0.978 - ETA: 4s - loss: 0.0611 - acc: 0.978 - ETA: 3s - loss: 0.0611 - acc: 0.978 - ETA: 2s - loss: 0.0611 - acc: 0.978 - ETA: 1s - loss: 0.0611 - acc: 0.978 - ETA: 0s - loss: 0.0610 - acc: 0.978 - 730s 8ms/step - loss: 0.0610 - acc: 0.9781 - val_loss: 0.0637 - val_acc: 0.9772\n",
      "Epoch 3/3\n"
     ]
    },
    {
     "name": "stdout",
     "output_type": "stream",
     "text": [
      "26112/86625 [========>.....................] - ETA: 11:40 - loss: 0.0376 - acc: 0.99 - ETA: 11:21 - loss: 0.0348 - acc: 0.98 - ETA: 11:20 - loss: 0.0333 - acc: 0.98 - ETA: 11:16 - loss: 0.0307 - acc: 0.99 - ETA: 11:19 - loss: 0.0308 - acc: 0.98 - ETA: 11:15 - loss: 0.0330 - acc: 0.98 - ETA: 11:13 - loss: 0.0333 - acc: 0.98 - ETA: 11:12 - loss: 0.0340 - acc: 0.98 - ETA: 11:12 - loss: 0.0339 - acc: 0.98 - ETA: 11:14 - loss: 0.0324 - acc: 0.98 - ETA: 11:10 - loss: 0.0318 - acc: 0.98 - ETA: 11:08 - loss: 0.0305 - acc: 0.98 - ETA: 11:07 - loss: 0.0303 - acc: 0.99 - ETA: 11:08 - loss: 0.0308 - acc: 0.98 - ETA: 11:06 - loss: 0.0306 - acc: 0.98 - ETA: 11:05 - loss: 0.0305 - acc: 0.98 - ETA: 11:04 - loss: 0.0316 - acc: 0.98 - ETA: 11:02 - loss: 0.0311 - acc: 0.98 - ETA: 11:01 - loss: 0.0309 - acc: 0.98 - ETA: 11:01 - loss: 0.0303 - acc: 0.98 - ETA: 11:01 - loss: 0.0306 - acc: 0.98 - ETA: 10:59 - loss: 0.0310 - acc: 0.98 - ETA: 10:58 - loss: 0.0307 - acc: 0.98 - ETA: 10:57 - loss: 0.0311 - acc: 0.98 - ETA: 10:57 - loss: 0.0307 - acc: 0.98 - ETA: 10:56 - loss: 0.0304 - acc: 0.98 - ETA: 10:55 - loss: 0.0305 - acc: 0.98 - ETA: 10:54 - loss: 0.0308 - acc: 0.98 - ETA: 10:53 - loss: 0.0308 - acc: 0.98 - ETA: 10:51 - loss: 0.0305 - acc: 0.98 - ETA: 10:49 - loss: 0.0304 - acc: 0.98 - ETA: 10:48 - loss: 0.0306 - acc: 0.98 - ETA: 10:46 - loss: 0.0311 - acc: 0.98 - ETA: 10:45 - loss: 0.0306 - acc: 0.98 - ETA: 10:44 - loss: 0.0312 - acc: 0.98 - ETA: 10:43 - loss: 0.0315 - acc: 0.98 - ETA: 10:41 - loss: 0.0313 - acc: 0.98 - ETA: 10:40 - loss: 0.0315 - acc: 0.98 - ETA: 10:38 - loss: 0.0311 - acc: 0.98 - ETA: 10:37 - loss: 0.0313 - acc: 0.98 - ETA: 10:35 - loss: 0.0313 - acc: 0.98 - ETA: 10:33 - loss: 0.0317 - acc: 0.98 - ETA: 10:31 - loss: 0.0319 - acc: 0.98 - ETA: 10:30 - loss: 0.0323 - acc: 0.98 - ETA: 10:30 - loss: 0.0322 - acc: 0.98 - ETA: 10:28 - loss: 0.0320 - acc: 0.98 - ETA: 10:27 - loss: 0.0323 - acc: 0.98 - ETA: 10:26 - loss: 0.0322 - acc: 0.98 - ETA: 10:25 - loss: 0.0325 - acc: 0.98 - ETA: 10:24 - loss: 0.0327 - acc: 0.98 - ETA: 10:23 - loss: 0.0325 - acc: 0.98 - ETA: 10:22 - loss: 0.0325 - acc: 0.98 - ETA: 10:20 - loss: 0.0323 - acc: 0.98 - ETA: 10:19 - loss: 0.0325 - acc: 0.98 - ETA: 10:18 - loss: 0.0326 - acc: 0.98 - ETA: 10:17 - loss: 0.0331 - acc: 0.98 - ETA: 10:16 - loss: 0.0335 - acc: 0.98 - ETA: 10:15 - loss: 0.0333 - acc: 0.98 - ETA: 10:13 - loss: 0.0334 - acc: 0.98 - ETA: 10:12 - loss: 0.0332 - acc: 0.98 - ETA: 10:11 - loss: 0.0330 - acc: 0.98 - ETA: 10:09 - loss: 0.0329 - acc: 0.98 - ETA: 10:09 - loss: 0.0329 - acc: 0.98 - ETA: 10:07 - loss: 0.0334 - acc: 0.98 - ETA: 10:07 - loss: 0.0336 - acc: 0.98 - ETA: 10:06 - loss: 0.0338 - acc: 0.98 - ETA: 10:05 - loss: 0.0338 - acc: 0.98 - ETA: 10:04 - loss: 0.0337 - acc: 0.98 - ETA: 10:03 - loss: 0.0343 - acc: 0.98 - ETA: 10:02 - loss: 0.0342 - acc: 0.98 - ETA: 10:01 - loss: 0.0340 - acc: 0.98 - ETA: 10:00 - loss: 0.0343 - acc: 0.98 - ETA: 9:58 - loss: 0.0344 - acc: 0.9883 - ETA: 9:57 - loss: 0.0344 - acc: 0.988 - ETA: 9:56 - loss: 0.0343 - acc: 0.988 - ETA: 9:55 - loss: 0.0343 - acc: 0.988 - ETA: 9:54 - loss: 0.0343 - acc: 0.988 - ETA: 9:53 - loss: 0.0341 - acc: 0.988 - ETA: 9:52 - loss: 0.0339 - acc: 0.988 - ETA: 9:51 - loss: 0.0340 - acc: 0.988 - ETA: 9:50 - loss: 0.0340 - acc: 0.988 - ETA: 9:48 - loss: 0.0340 - acc: 0.988 - ETA: 9:47 - loss: 0.0339 - acc: 0.988 - ETA: 9:45 - loss: 0.0341 - acc: 0.988 - ETA: 9:45 - loss: 0.0340 - acc: 0.988 - ETA: 9:43 - loss: 0.0340 - acc: 0.988 - ETA: 9:43 - loss: 0.0341 - acc: 0.988 - ETA: 9:41 - loss: 0.0341 - acc: 0.988 - ETA: 9:40 - loss: 0.0340 - acc: 0.988 - ETA: 9:39 - loss: 0.0338 - acc: 0.988 - ETA: 9:38 - loss: 0.0339 - acc: 0.988 - ETA: 9:37 - loss: 0.0339 - acc: 0.988 - ETA: 9:36 - loss: 0.0342 - acc: 0.988 - ETA: 9:35 - loss: 0.0340 - acc: 0.988 - ETA: 9:34 - loss: 0.0339 - acc: 0.988 - ETA: 9:33 - loss: 0.0339 - acc: 0.988 - ETA: 9:32 - loss: 0.0340 - acc: 0.988 - ETA: 9:31 - loss: 0.0339 - acc: 0.988 - ETA: 9:30 - loss: 0.0338 - acc: 0.988 - ETA: 9:29 - loss: 0.0338 - acc: 0.988 - ETA: 9:28 - loss: 0.0339 - acc: 0.988 - ETA: 9:27 - loss: 0.0337 - acc: 0.988 - ETA: 9:26 - loss: 0.0340 - acc: 0.988 - ETA: 9:25 - loss: 0.0342 - acc: 0.988 - ETA: 9:23 - loss: 0.0342 - acc: 0.988 - ETA: 9:22 - loss: 0.0340 - acc: 0.988 - ETA: 9:22 - loss: 0.0341 - acc: 0.988 - ETA: 9:21 - loss: 0.0341 - acc: 0.988 - ETA: 9:20 - loss: 0.0343 - acc: 0.988 - ETA: 9:19 - loss: 0.0342 - acc: 0.988 - ETA: 9:18 - loss: 0.0342 - acc: 0.988 - ETA: 9:16 - loss: 0.0342 - acc: 0.988 - ETA: 9:15 - loss: 0.0342 - acc: 0.988 - ETA: 9:14 - loss: 0.0341 - acc: 0.988 - ETA: 9:13 - loss: 0.0341 - acc: 0.988 - ETA: 9:12 - loss: 0.0340 - acc: 0.988 - ETA: 9:11 - loss: 0.0341 - acc: 0.988 - ETA: 9:10 - loss: 0.0341 - acc: 0.988 - ETA: 9:09 - loss: 0.0341 - acc: 0.988 - ETA: 9:08 - loss: 0.0339 - acc: 0.988 - ETA: 9:07 - loss: 0.0339 - acc: 0.988 - ETA: 9:06 - loss: 0.0339 - acc: 0.988 - ETA: 9:05 - loss: 0.0340 - acc: 0.988 - ETA: 9:04 - loss: 0.0340 - acc: 0.988 - ETA: 9:03 - loss: 0.0340 - acc: 0.988 - ETA: 9:02 - loss: 0.0340 - acc: 0.988 - ETA: 9:01 - loss: 0.0340 - acc: 0.988 - ETA: 9:00 - loss: 0.0340 - acc: 0.988 - ETA: 8:59 - loss: 0.0341 - acc: 0.988 - ETA: 8:58 - loss: 0.0341 - acc: 0.988 - ETA: 8:57 - loss: 0.0340 - acc: 0.988 - ETA: 8:56 - loss: 0.0341 - acc: 0.988 - ETA: 8:55 - loss: 0.0341 - acc: 0.988 - ETA: 8:54 - loss: 0.0340 - acc: 0.988 - ETA: 8:53 - loss: 0.0343 - acc: 0.988 - ETA: 8:52 - loss: 0.0343 - acc: 0.988 - ETA: 8:51 - loss: 0.0343 - acc: 0.988 - ETA: 8:50 - loss: 0.0343 - acc: 0.988 - ETA: 8:49 - loss: 0.0342 - acc: 0.988 - ETA: 8:48 - loss: 0.0344 - acc: 0.988 - ETA: 8:47 - loss: 0.0344 - acc: 0.988 - ETA: 8:46 - loss: 0.0344 - acc: 0.988 - ETA: 8:45 - loss: 0.0344 - acc: 0.988 - ETA: 8:44 - loss: 0.0345 - acc: 0.988 - ETA: 8:43 - loss: 0.0344 - acc: 0.988 - ETA: 8:42 - loss: 0.0343 - acc: 0.988 - ETA: 8:41 - loss: 0.0345 - acc: 0.988 - ETA: 8:39 - loss: 0.0343 - acc: 0.988 - ETA: 8:39 - loss: 0.0343 - acc: 0.988 - ETA: 8:37 - loss: 0.0343 - acc: 0.988 - ETA: 8:37 - loss: 0.0343 - acc: 0.988 - ETA: 8:36 - loss: 0.0342 - acc: 0.988 - ETA: 8:35 - loss: 0.0341 - acc: 0.988 - ETA: 8:34 - loss: 0.0341 - acc: 0.988 - ETA: 8:32 - loss: 0.0341 - acc: 0.988 - ETA: 8:31 - loss: 0.0341 - acc: 0.988 - ETA: 8:30 - loss: 0.0340 - acc: 0.988 - ETA: 8:30 - loss: 0.0341 - acc: 0.988 - ETA: 8:28 - loss: 0.0340 - acc: 0.988 - ETA: 8:28 - loss: 0.0340 - acc: 0.988 - ETA: 8:27 - loss: 0.0342 - acc: 0.988 - ETA: 8:26 - loss: 0.0342 - acc: 0.988 - ETA: 8:24 - loss: 0.0343 - acc: 0.988 - ETA: 8:23 - loss: 0.0342 - acc: 0.988 - ETA: 8:23 - loss: 0.0343 - acc: 0.988 - ETA: 8:22 - loss: 0.0343 - acc: 0.988 - ETA: 8:21 - loss: 0.0344 - acc: 0.988 - ETA: 8:20 - loss: 0.0343 - acc: 0.988 - ETA: 8:19 - loss: 0.0343 - acc: 0.988 - ETA: 8:18 - loss: 0.0343 - acc: 0.988 - ETA: 8:18 - loss: 0.0344 - acc: 0.988 - ETA: 8:17 - loss: 0.0343 - acc: 0.988 - ETA: 8:16 - loss: 0.0343 - acc: 0.988 - ETA: 8:15 - loss: 0.0343 - acc: 0.988 - ETA: 8:14 - loss: 0.0344 - acc: 0.988 - ETA: 8:14 - loss: 0.0344 - acc: 0.988 - ETA: 8:13 - loss: 0.0343 - acc: 0.988 - ETA: 8:12 - loss: 0.0343 - acc: 0.988 - ETA: 8:11 - loss: 0.0343 - acc: 0.988 - ETA: 8:10 - loss: 0.0343 - acc: 0.988 - ETA: 8:09 - loss: 0.0344 - acc: 0.988 - ETA: 8:08 - loss: 0.0344 - acc: 0.988 - ETA: 8:07 - loss: 0.0344 - acc: 0.988 - ETA: 8:06 - loss: 0.0344 - acc: 0.988 - ETA: 8:05 - loss: 0.0344 - acc: 0.988 - ETA: 8:03 - loss: 0.0344 - acc: 0.988 - ETA: 8:02 - loss: 0.0343 - acc: 0.988 - ETA: 8:01 - loss: 0.0344 - acc: 0.988 - ETA: 8:00 - loss: 0.0344 - acc: 0.988 - ETA: 7:59 - loss: 0.0344 - acc: 0.988 - ETA: 7:58 - loss: 0.0344 - acc: 0.988 - ETA: 7:57 - loss: 0.0344 - acc: 0.988 - ETA: 7:56 - loss: 0.0345 - acc: 0.988 - ETA: 7:55 - loss: 0.0344 - acc: 0.988 - ETA: 7:54 - loss: 0.0344 - acc: 0.988 - ETA: 7:53 - loss: 0.0344 - acc: 0.988 - ETA: 7:52 - loss: 0.0345 - acc: 0.988 - ETA: 7:51 - loss: 0.0345 - acc: 0.988 - ETA: 7:50 - loss: 0.0345 - acc: 0.988 - ETA: 7:49 - loss: 0.0345 - acc: 0.988 - ETA: 7:48 - loss: 0.0345 - acc: 0.988 - ETA: 7:47 - loss: 0.0345 - acc: 0.988 - ETA: 7:46 - loss: 0.0345 - acc: 0.988 - ETA: 7:45 - loss: 0.0344 - acc: 0.988452224/86625 [=================>............] - ETA: 7:44 - loss: 0.0344 - acc: 0.988 - ETA: 7:43 - loss: 0.0343 - acc: 0.988 - ETA: 7:42 - loss: 0.0343 - acc: 0.988 - ETA: 7:41 - loss: 0.0344 - acc: 0.988 - ETA: 7:40 - loss: 0.0344 - acc: 0.988 - ETA: 7:39 - loss: 0.0344 - acc: 0.988 - ETA: 7:38 - loss: 0.0344 - acc: 0.988 - ETA: 7:37 - loss: 0.0344 - acc: 0.988 - ETA: 7:36 - loss: 0.0344 - acc: 0.988 - ETA: 7:35 - loss: 0.0345 - acc: 0.988 - ETA: 7:34 - loss: 0.0345 - acc: 0.988 - ETA: 7:34 - loss: 0.0345 - acc: 0.988 - ETA: 7:32 - loss: 0.0346 - acc: 0.988 - ETA: 7:31 - loss: 0.0345 - acc: 0.988 - ETA: 7:31 - loss: 0.0346 - acc: 0.988 - ETA: 7:30 - loss: 0.0347 - acc: 0.988 - ETA: 7:29 - loss: 0.0347 - acc: 0.988 - ETA: 7:28 - loss: 0.0348 - acc: 0.988 - ETA: 7:27 - loss: 0.0348 - acc: 0.988 - ETA: 7:26 - loss: 0.0348 - acc: 0.988 - ETA: 7:25 - loss: 0.0348 - acc: 0.988 - ETA: 7:24 - loss: 0.0349 - acc: 0.988 - ETA: 7:23 - loss: 0.0349 - acc: 0.988 - ETA: 7:22 - loss: 0.0348 - acc: 0.988 - ETA: 7:21 - loss: 0.0349 - acc: 0.988 - ETA: 7:20 - loss: 0.0349 - acc: 0.988 - ETA: 7:19 - loss: 0.0349 - acc: 0.988 - ETA: 7:18 - loss: 0.0349 - acc: 0.988 - ETA: 7:17 - loss: 0.0349 - acc: 0.988 - ETA: 7:16 - loss: 0.0349 - acc: 0.988 - ETA: 7:15 - loss: 0.0349 - acc: 0.988 - ETA: 7:14 - loss: 0.0349 - acc: 0.988 - ETA: 7:13 - loss: 0.0349 - acc: 0.988 - ETA: 7:12 - loss: 0.0348 - acc: 0.988 - ETA: 7:11 - loss: 0.0348 - acc: 0.988 - ETA: 7:10 - loss: 0.0349 - acc: 0.988 - ETA: 7:09 - loss: 0.0350 - acc: 0.988 - ETA: 7:08 - loss: 0.0350 - acc: 0.988 - ETA: 7:07 - loss: 0.0350 - acc: 0.988 - ETA: 7:06 - loss: 0.0350 - acc: 0.988 - ETA: 7:05 - loss: 0.0352 - acc: 0.988 - ETA: 7:04 - loss: 0.0352 - acc: 0.988 - ETA: 7:02 - loss: 0.0352 - acc: 0.988 - ETA: 7:01 - loss: 0.0352 - acc: 0.988 - ETA: 7:01 - loss: 0.0353 - acc: 0.988 - ETA: 7:00 - loss: 0.0352 - acc: 0.988 - ETA: 6:59 - loss: 0.0352 - acc: 0.988 - ETA: 6:58 - loss: 0.0352 - acc: 0.988 - ETA: 6:57 - loss: 0.0352 - acc: 0.988 - ETA: 6:56 - loss: 0.0351 - acc: 0.988 - ETA: 6:55 - loss: 0.0351 - acc: 0.988 - ETA: 6:54 - loss: 0.0350 - acc: 0.988 - ETA: 6:52 - loss: 0.0350 - acc: 0.988 - ETA: 6:51 - loss: 0.0350 - acc: 0.988 - ETA: 6:50 - loss: 0.0350 - acc: 0.988 - ETA: 6:49 - loss: 0.0350 - acc: 0.988 - ETA: 6:48 - loss: 0.0351 - acc: 0.988 - ETA: 6:48 - loss: 0.0350 - acc: 0.988 - ETA: 6:46 - loss: 0.0351 - acc: 0.988 - ETA: 6:46 - loss: 0.0351 - acc: 0.988 - ETA: 6:44 - loss: 0.0352 - acc: 0.988 - ETA: 6:44 - loss: 0.0351 - acc: 0.988 - ETA: 6:42 - loss: 0.0352 - acc: 0.988 - ETA: 6:41 - loss: 0.0352 - acc: 0.988 - ETA: 6:40 - loss: 0.0351 - acc: 0.988 - ETA: 6:39 - loss: 0.0351 - acc: 0.988 - ETA: 6:38 - loss: 0.0351 - acc: 0.988 - ETA: 6:37 - loss: 0.0352 - acc: 0.988 - ETA: 6:36 - loss: 0.0352 - acc: 0.988 - ETA: 6:35 - loss: 0.0352 - acc: 0.988 - ETA: 6:34 - loss: 0.0352 - acc: 0.988 - ETA: 6:33 - loss: 0.0351 - acc: 0.988 - ETA: 6:32 - loss: 0.0351 - acc: 0.988 - ETA: 6:31 - loss: 0.0351 - acc: 0.988 - ETA: 6:30 - loss: 0.0351 - acc: 0.988 - ETA: 6:29 - loss: 0.0351 - acc: 0.988 - ETA: 6:28 - loss: 0.0351 - acc: 0.988 - ETA: 6:27 - loss: 0.0351 - acc: 0.988 - ETA: 6:26 - loss: 0.0351 - acc: 0.988 - ETA: 6:25 - loss: 0.0351 - acc: 0.988 - ETA: 6:24 - loss: 0.0351 - acc: 0.988 - ETA: 6:23 - loss: 0.0351 - acc: 0.988 - ETA: 6:23 - loss: 0.0351 - acc: 0.988 - ETA: 6:21 - loss: 0.0351 - acc: 0.988 - ETA: 6:20 - loss: 0.0351 - acc: 0.988 - ETA: 6:19 - loss: 0.0351 - acc: 0.988 - ETA: 6:19 - loss: 0.0351 - acc: 0.988 - ETA: 6:18 - loss: 0.0351 - acc: 0.988 - ETA: 6:17 - loss: 0.0350 - acc: 0.988 - ETA: 6:16 - loss: 0.0351 - acc: 0.988 - ETA: 6:15 - loss: 0.0351 - acc: 0.988 - ETA: 6:14 - loss: 0.0352 - acc: 0.988 - ETA: 6:13 - loss: 0.0351 - acc: 0.988 - ETA: 6:12 - loss: 0.0351 - acc: 0.988 - ETA: 6:11 - loss: 0.0351 - acc: 0.988 - ETA: 6:10 - loss: 0.0351 - acc: 0.988 - ETA: 6:09 - loss: 0.0351 - acc: 0.988 - ETA: 6:08 - loss: 0.0351 - acc: 0.988 - ETA: 6:07 - loss: 0.0351 - acc: 0.988 - ETA: 6:06 - loss: 0.0351 - acc: 0.988 - ETA: 6:05 - loss: 0.0351 - acc: 0.988 - ETA: 6:04 - loss: 0.0351 - acc: 0.988 - ETA: 6:03 - loss: 0.0350 - acc: 0.988 - ETA: 6:02 - loss: 0.0350 - acc: 0.988 - ETA: 6:01 - loss: 0.0350 - acc: 0.988 - ETA: 6:00 - loss: 0.0351 - acc: 0.988 - ETA: 5:59 - loss: 0.0351 - acc: 0.988 - ETA: 5:58 - loss: 0.0351 - acc: 0.988 - ETA: 5:57 - loss: 0.0351 - acc: 0.988 - ETA: 5:56 - loss: 0.0351 - acc: 0.988 - ETA: 5:55 - loss: 0.0352 - acc: 0.988 - ETA: 5:54 - loss: 0.0352 - acc: 0.988 - ETA: 5:53 - loss: 0.0353 - acc: 0.988 - ETA: 5:52 - loss: 0.0353 - acc: 0.988 - ETA: 5:51 - loss: 0.0353 - acc: 0.988 - ETA: 5:50 - loss: 0.0352 - acc: 0.988 - ETA: 5:49 - loss: 0.0352 - acc: 0.988 - ETA: 5:48 - loss: 0.0352 - acc: 0.988 - ETA: 5:47 - loss: 0.0353 - acc: 0.988 - ETA: 5:46 - loss: 0.0353 - acc: 0.988 - ETA: 5:45 - loss: 0.0353 - acc: 0.988 - ETA: 5:44 - loss: 0.0352 - acc: 0.988 - ETA: 5:43 - loss: 0.0353 - acc: 0.988 - ETA: 5:42 - loss: 0.0353 - acc: 0.988 - ETA: 5:41 - loss: 0.0353 - acc: 0.988 - ETA: 5:40 - loss: 0.0353 - acc: 0.988 - ETA: 5:39 - loss: 0.0354 - acc: 0.988 - ETA: 5:38 - loss: 0.0354 - acc: 0.988 - ETA: 5:37 - loss: 0.0354 - acc: 0.988 - ETA: 5:36 - loss: 0.0354 - acc: 0.988 - ETA: 5:35 - loss: 0.0354 - acc: 0.988 - ETA: 5:34 - loss: 0.0355 - acc: 0.987 - ETA: 5:33 - loss: 0.0356 - acc: 0.987 - ETA: 5:32 - loss: 0.0355 - acc: 0.987 - ETA: 5:31 - loss: 0.0355 - acc: 0.987 - ETA: 5:30 - loss: 0.0355 - acc: 0.987 - ETA: 5:29 - loss: 0.0355 - acc: 0.987 - ETA: 5:28 - loss: 0.0356 - acc: 0.987 - ETA: 5:27 - loss: 0.0356 - acc: 0.987 - ETA: 5:26 - loss: 0.0356 - acc: 0.987 - ETA: 5:25 - loss: 0.0357 - acc: 0.987 - ETA: 5:24 - loss: 0.0357 - acc: 0.987 - ETA: 5:23 - loss: 0.0357 - acc: 0.987 - ETA: 5:22 - loss: 0.0357 - acc: 0.987 - ETA: 5:21 - loss: 0.0356 - acc: 0.987 - ETA: 5:20 - loss: 0.0356 - acc: 0.987 - ETA: 5:19 - loss: 0.0356 - acc: 0.987 - ETA: 5:18 - loss: 0.0356 - acc: 0.987 - ETA: 5:17 - loss: 0.0356 - acc: 0.987 - ETA: 5:16 - loss: 0.0357 - acc: 0.987 - ETA: 5:15 - loss: 0.0357 - acc: 0.987 - ETA: 5:14 - loss: 0.0357 - acc: 0.987 - ETA: 5:14 - loss: 0.0357 - acc: 0.987 - ETA: 5:13 - loss: 0.0357 - acc: 0.987 - ETA: 5:12 - loss: 0.0357 - acc: 0.987 - ETA: 5:11 - loss: 0.0356 - acc: 0.987 - ETA: 5:10 - loss: 0.0356 - acc: 0.987 - ETA: 5:09 - loss: 0.0356 - acc: 0.987 - ETA: 5:08 - loss: 0.0356 - acc: 0.987 - ETA: 5:07 - loss: 0.0356 - acc: 0.987 - ETA: 5:06 - loss: 0.0357 - acc: 0.987 - ETA: 5:05 - loss: 0.0356 - acc: 0.987 - ETA: 5:04 - loss: 0.0356 - acc: 0.987 - ETA: 5:03 - loss: 0.0356 - acc: 0.987 - ETA: 5:02 - loss: 0.0356 - acc: 0.987 - ETA: 5:01 - loss: 0.0356 - acc: 0.987 - ETA: 5:00 - loss: 0.0356 - acc: 0.987 - ETA: 4:59 - loss: 0.0356 - acc: 0.987 - ETA: 4:58 - loss: 0.0356 - acc: 0.987 - ETA: 4:57 - loss: 0.0356 - acc: 0.987 - ETA: 4:56 - loss: 0.0355 - acc: 0.987 - ETA: 4:55 - loss: 0.0355 - acc: 0.987 - ETA: 4:54 - loss: 0.0355 - acc: 0.987 - ETA: 4:53 - loss: 0.0355 - acc: 0.987 - ETA: 4:52 - loss: 0.0355 - acc: 0.987 - ETA: 4:51 - loss: 0.0355 - acc: 0.988 - ETA: 4:50 - loss: 0.0355 - acc: 0.988 - ETA: 4:49 - loss: 0.0355 - acc: 0.988 - ETA: 4:48 - loss: 0.0355 - acc: 0.988 - ETA: 4:47 - loss: 0.0355 - acc: 0.988 - ETA: 4:46 - loss: 0.0355 - acc: 0.988 - ETA: 4:45 - loss: 0.0355 - acc: 0.988 - ETA: 4:44 - loss: 0.0355 - acc: 0.987 - ETA: 4:43 - loss: 0.0355 - acc: 0.987 - ETA: 4:42 - loss: 0.0355 - acc: 0.987 - ETA: 4:41 - loss: 0.0355 - acc: 0.987 - ETA: 4:40 - loss: 0.0355 - acc: 0.987 - ETA: 4:39 - loss: 0.0355 - acc: 0.987 - ETA: 4:38 - loss: 0.0355 - acc: 0.987 - ETA: 4:37 - loss: 0.0355 - acc: 0.987 - ETA: 4:36 - loss: 0.0355 - acc: 0.987 - ETA: 4:35 - loss: 0.0355 - acc: 0.987 - ETA: 4:34 - loss: 0.0356 - acc: 0.987 - ETA: 4:33 - loss: 0.0355 - acc: 0.987 - ETA: 4:32 - loss: 0.0355 - acc: 0.987 - ETA: 4:31 - loss: 0.0355 - acc: 0.987 - ETA: 4:30 - loss: 0.0355 - acc: 0.987 - ETA: 4:29 - loss: 0.0355 - acc: 0.987 - ETA: 4:28 - loss: 0.0354 - acc: 0.987 - ETA: 4:27 - loss: 0.0354 - acc: 0.987 - ETA: 4:26 - loss: 0.0355 - acc: 0.987 - ETA: 4:25 - loss: 0.0355 - acc: 0.987 - ETA: 4:24 - loss: 0.0355 - acc: 0.987 - ETA: 4:23 - loss: 0.0354 - acc: 0.987978336/86625 [==========================>...] - ETA: 4:22 - loss: 0.0354 - acc: 0.987 - ETA: 4:21 - loss: 0.0355 - acc: 0.987 - ETA: 4:20 - loss: 0.0355 - acc: 0.987 - ETA: 4:19 - loss: 0.0355 - acc: 0.987 - ETA: 4:18 - loss: 0.0355 - acc: 0.987 - ETA: 4:17 - loss: 0.0355 - acc: 0.987 - ETA: 4:16 - loss: 0.0355 - acc: 0.987 - ETA: 4:15 - loss: 0.0355 - acc: 0.987 - ETA: 4:14 - loss: 0.0355 - acc: 0.987 - ETA: 4:13 - loss: 0.0355 - acc: 0.987 - ETA: 4:12 - loss: 0.0355 - acc: 0.987 - ETA: 4:11 - loss: 0.0355 - acc: 0.987 - ETA: 4:10 - loss: 0.0355 - acc: 0.987 - ETA: 4:09 - loss: 0.0355 - acc: 0.987 - ETA: 4:08 - loss: 0.0355 - acc: 0.987 - ETA: 4:08 - loss: 0.0355 - acc: 0.987 - ETA: 4:07 - loss: 0.0355 - acc: 0.987 - ETA: 4:06 - loss: 0.0355 - acc: 0.987 - ETA: 4:05 - loss: 0.0355 - acc: 0.987 - ETA: 4:04 - loss: 0.0355 - acc: 0.987 - ETA: 4:03 - loss: 0.0355 - acc: 0.987 - ETA: 4:02 - loss: 0.0355 - acc: 0.987 - ETA: 4:01 - loss: 0.0355 - acc: 0.987 - ETA: 4:00 - loss: 0.0355 - acc: 0.987 - ETA: 3:59 - loss: 0.0355 - acc: 0.987 - ETA: 3:58 - loss: 0.0355 - acc: 0.987 - ETA: 3:57 - loss: 0.0355 - acc: 0.987 - ETA: 3:56 - loss: 0.0355 - acc: 0.987 - ETA: 3:55 - loss: 0.0355 - acc: 0.987 - ETA: 3:54 - loss: 0.0355 - acc: 0.987 - ETA: 3:53 - loss: 0.0355 - acc: 0.987 - ETA: 3:52 - loss: 0.0355 - acc: 0.987 - ETA: 3:51 - loss: 0.0355 - acc: 0.987 - ETA: 3:50 - loss: 0.0355 - acc: 0.987 - ETA: 3:49 - loss: 0.0355 - acc: 0.987 - ETA: 3:48 - loss: 0.0355 - acc: 0.987 - ETA: 3:47 - loss: 0.0355 - acc: 0.987 - ETA: 3:46 - loss: 0.0355 - acc: 0.987 - ETA: 3:45 - loss: 0.0355 - acc: 0.987 - ETA: 3:44 - loss: 0.0355 - acc: 0.987 - ETA: 3:43 - loss: 0.0355 - acc: 0.987 - ETA: 3:42 - loss: 0.0355 - acc: 0.987 - ETA: 3:41 - loss: 0.0356 - acc: 0.987 - ETA: 3:40 - loss: 0.0355 - acc: 0.987 - ETA: 3:39 - loss: 0.0356 - acc: 0.987 - ETA: 3:38 - loss: 0.0356 - acc: 0.987 - ETA: 3:37 - loss: 0.0356 - acc: 0.987 - ETA: 3:36 - loss: 0.0356 - acc: 0.987 - ETA: 3:35 - loss: 0.0356 - acc: 0.987 - ETA: 3:34 - loss: 0.0356 - acc: 0.987 - ETA: 3:33 - loss: 0.0356 - acc: 0.987 - ETA: 3:32 - loss: 0.0357 - acc: 0.987 - ETA: 3:31 - loss: 0.0357 - acc: 0.987 - ETA: 3:30 - loss: 0.0357 - acc: 0.987 - ETA: 3:29 - loss: 0.0357 - acc: 0.987 - ETA: 3:28 - loss: 0.0357 - acc: 0.987 - ETA: 3:27 - loss: 0.0357 - acc: 0.987 - ETA: 3:26 - loss: 0.0357 - acc: 0.987 - ETA: 3:25 - loss: 0.0356 - acc: 0.987 - ETA: 3:24 - loss: 0.0357 - acc: 0.987 - ETA: 3:23 - loss: 0.0356 - acc: 0.987 - ETA: 3:22 - loss: 0.0356 - acc: 0.987 - ETA: 3:21 - loss: 0.0356 - acc: 0.987 - ETA: 3:20 - loss: 0.0356 - acc: 0.987 - ETA: 3:19 - loss: 0.0356 - acc: 0.987 - ETA: 3:18 - loss: 0.0356 - acc: 0.987 - ETA: 3:17 - loss: 0.0355 - acc: 0.987 - ETA: 3:16 - loss: 0.0356 - acc: 0.987 - ETA: 3:15 - loss: 0.0356 - acc: 0.987 - ETA: 3:14 - loss: 0.0356 - acc: 0.987 - ETA: 3:13 - loss: 0.0356 - acc: 0.987 - ETA: 3:12 - loss: 0.0355 - acc: 0.987 - ETA: 3:11 - loss: 0.0355 - acc: 0.987 - ETA: 3:10 - loss: 0.0355 - acc: 0.987 - ETA: 3:09 - loss: 0.0355 - acc: 0.987 - ETA: 3:09 - loss: 0.0355 - acc: 0.987 - ETA: 3:08 - loss: 0.0355 - acc: 0.987 - ETA: 3:07 - loss: 0.0355 - acc: 0.987 - ETA: 3:06 - loss: 0.0355 - acc: 0.987 - ETA: 3:05 - loss: 0.0355 - acc: 0.987 - ETA: 3:04 - loss: 0.0355 - acc: 0.987 - ETA: 3:03 - loss: 0.0355 - acc: 0.987 - ETA: 3:02 - loss: 0.0355 - acc: 0.987 - ETA: 3:01 - loss: 0.0355 - acc: 0.987 - ETA: 3:00 - loss: 0.0356 - acc: 0.987 - ETA: 2:59 - loss: 0.0356 - acc: 0.987 - ETA: 2:58 - loss: 0.0356 - acc: 0.987 - ETA: 2:57 - loss: 0.0356 - acc: 0.987 - ETA: 2:56 - loss: 0.0357 - acc: 0.987 - ETA: 2:55 - loss: 0.0357 - acc: 0.987 - ETA: 2:54 - loss: 0.0357 - acc: 0.987 - ETA: 2:53 - loss: 0.0357 - acc: 0.987 - ETA: 2:52 - loss: 0.0357 - acc: 0.987 - ETA: 2:51 - loss: 0.0358 - acc: 0.987 - ETA: 2:50 - loss: 0.0358 - acc: 0.987 - ETA: 2:49 - loss: 0.0358 - acc: 0.987 - ETA: 2:48 - loss: 0.0358 - acc: 0.987 - ETA: 2:47 - loss: 0.0357 - acc: 0.987 - ETA: 2:46 - loss: 0.0358 - acc: 0.987 - ETA: 2:45 - loss: 0.0357 - acc: 0.987 - ETA: 2:44 - loss: 0.0357 - acc: 0.987 - ETA: 2:43 - loss: 0.0358 - acc: 0.987 - ETA: 2:42 - loss: 0.0358 - acc: 0.987 - ETA: 2:41 - loss: 0.0359 - acc: 0.987 - ETA: 2:40 - loss: 0.0359 - acc: 0.987 - ETA: 2:39 - loss: 0.0359 - acc: 0.987 - ETA: 2:38 - loss: 0.0359 - acc: 0.987 - ETA: 2:37 - loss: 0.0359 - acc: 0.987 - ETA: 2:36 - loss: 0.0359 - acc: 0.987 - ETA: 2:35 - loss: 0.0359 - acc: 0.987 - ETA: 2:34 - loss: 0.0359 - acc: 0.987 - ETA: 2:33 - loss: 0.0359 - acc: 0.987 - ETA: 2:32 - loss: 0.0359 - acc: 0.987 - ETA: 2:31 - loss: 0.0359 - acc: 0.987 - ETA: 2:30 - loss: 0.0359 - acc: 0.987 - ETA: 2:29 - loss: 0.0359 - acc: 0.987 - ETA: 2:28 - loss: 0.0359 - acc: 0.987 - ETA: 2:27 - loss: 0.0359 - acc: 0.987 - ETA: 2:26 - loss: 0.0359 - acc: 0.987 - ETA: 2:25 - loss: 0.0359 - acc: 0.987 - ETA: 2:24 - loss: 0.0359 - acc: 0.987 - ETA: 2:23 - loss: 0.0359 - acc: 0.987 - ETA: 2:22 - loss: 0.0359 - acc: 0.987 - ETA: 2:21 - loss: 0.0359 - acc: 0.987 - ETA: 2:20 - loss: 0.0359 - acc: 0.987 - ETA: 2:19 - loss: 0.0359 - acc: 0.987 - ETA: 2:18 - loss: 0.0359 - acc: 0.987 - ETA: 2:17 - loss: 0.0359 - acc: 0.987 - ETA: 2:17 - loss: 0.0359 - acc: 0.987 - ETA: 2:16 - loss: 0.0359 - acc: 0.987 - ETA: 2:15 - loss: 0.0359 - acc: 0.987 - ETA: 2:14 - loss: 0.0359 - acc: 0.987 - ETA: 2:13 - loss: 0.0359 - acc: 0.987 - ETA: 2:12 - loss: 0.0359 - acc: 0.987 - ETA: 2:11 - loss: 0.0359 - acc: 0.987 - ETA: 2:10 - loss: 0.0359 - acc: 0.987 - ETA: 2:09 - loss: 0.0359 - acc: 0.987 - ETA: 2:08 - loss: 0.0359 - acc: 0.987 - ETA: 2:07 - loss: 0.0359 - acc: 0.987 - ETA: 2:06 - loss: 0.0359 - acc: 0.987 - ETA: 2:05 - loss: 0.0359 - acc: 0.987 - ETA: 2:04 - loss: 0.0359 - acc: 0.987 - ETA: 2:03 - loss: 0.0359 - acc: 0.987 - ETA: 2:02 - loss: 0.0359 - acc: 0.987 - ETA: 2:01 - loss: 0.0359 - acc: 0.987 - ETA: 2:00 - loss: 0.0359 - acc: 0.987 - ETA: 1:59 - loss: 0.0359 - acc: 0.987 - ETA: 1:58 - loss: 0.0359 - acc: 0.987 - ETA: 1:57 - loss: 0.0359 - acc: 0.987 - ETA: 1:56 - loss: 0.0359 - acc: 0.987 - ETA: 1:55 - loss: 0.0359 - acc: 0.987 - ETA: 1:54 - loss: 0.0359 - acc: 0.987 - ETA: 1:53 - loss: 0.0359 - acc: 0.987 - ETA: 1:52 - loss: 0.0358 - acc: 0.987 - ETA: 1:51 - loss: 0.0359 - acc: 0.987 - ETA: 1:50 - loss: 0.0359 - acc: 0.987 - ETA: 1:49 - loss: 0.0359 - acc: 0.987 - ETA: 1:48 - loss: 0.0359 - acc: 0.987 - ETA: 1:47 - loss: 0.0359 - acc: 0.987 - ETA: 1:46 - loss: 0.0359 - acc: 0.987 - ETA: 1:45 - loss: 0.0359 - acc: 0.987 - ETA: 1:44 - loss: 0.0360 - acc: 0.987 - ETA: 1:43 - loss: 0.0360 - acc: 0.987 - ETA: 1:42 - loss: 0.0360 - acc: 0.987 - ETA: 1:41 - loss: 0.0360 - acc: 0.987 - ETA: 1:40 - loss: 0.0360 - acc: 0.987 - ETA: 1:39 - loss: 0.0360 - acc: 0.987 - ETA: 1:38 - loss: 0.0360 - acc: 0.987 - ETA: 1:37 - loss: 0.0360 - acc: 0.987 - ETA: 1:36 - loss: 0.0360 - acc: 0.987 - ETA: 1:35 - loss: 0.0360 - acc: 0.987 - ETA: 1:34 - loss: 0.0360 - acc: 0.987 - ETA: 1:33 - loss: 0.0360 - acc: 0.987 - ETA: 1:32 - loss: 0.0360 - acc: 0.987 - ETA: 1:31 - loss: 0.0360 - acc: 0.987 - ETA: 1:30 - loss: 0.0360 - acc: 0.987 - ETA: 1:29 - loss: 0.0360 - acc: 0.987 - ETA: 1:28 - loss: 0.0360 - acc: 0.987 - ETA: 1:28 - loss: 0.0360 - acc: 0.987 - ETA: 1:27 - loss: 0.0360 - acc: 0.987 - ETA: 1:26 - loss: 0.0360 - acc: 0.987 - ETA: 1:25 - loss: 0.0360 - acc: 0.987 - ETA: 1:24 - loss: 0.0360 - acc: 0.987 - ETA: 1:23 - loss: 0.0360 - acc: 0.987 - ETA: 1:22 - loss: 0.0360 - acc: 0.987 - ETA: 1:21 - loss: 0.0360 - acc: 0.987 - ETA: 1:20 - loss: 0.0360 - acc: 0.987 - ETA: 1:19 - loss: 0.0360 - acc: 0.987 - ETA: 1:18 - loss: 0.0360 - acc: 0.987 - ETA: 1:17 - loss: 0.0360 - acc: 0.987 - ETA: 1:16 - loss: 0.0360 - acc: 0.987 - ETA: 1:15 - loss: 0.0360 - acc: 0.987 - ETA: 1:14 - loss: 0.0360 - acc: 0.987 - ETA: 1:13 - loss: 0.0360 - acc: 0.987 - ETA: 1:12 - loss: 0.0360 - acc: 0.987 - ETA: 1:11 - loss: 0.0360 - acc: 0.987 - ETA: 1:10 - loss: 0.0361 - acc: 0.987 - ETA: 1:09 - loss: 0.0361 - acc: 0.987 - ETA: 1:08 - loss: 0.0360 - acc: 0.987 - ETA: 1:07 - loss: 0.0360 - acc: 0.987 - ETA: 1:06 - loss: 0.0360 - acc: 0.987 - ETA: 1:05 - loss: 0.0361 - acc: 0.987 - ETA: 1:04 - loss: 0.0361 - acc: 0.987 - ETA: 1:03 - loss: 0.0361 - acc: 0.987786625/86625 [==============================] - ETA: 1:02 - loss: 0.0361 - acc: 0.987 - ETA: 1:01 - loss: 0.0361 - acc: 0.987 - ETA: 1:00 - loss: 0.0361 - acc: 0.987 - ETA: 59s - loss: 0.0361 - acc: 0.987 - ETA: 58s - loss: 0.0361 - acc: 0.98 - ETA: 57s - loss: 0.0361 - acc: 0.98 - ETA: 56s - loss: 0.0362 - acc: 0.98 - ETA: 55s - loss: 0.0361 - acc: 0.98 - ETA: 54s - loss: 0.0361 - acc: 0.98 - ETA: 53s - loss: 0.0361 - acc: 0.98 - ETA: 52s - loss: 0.0361 - acc: 0.98 - ETA: 51s - loss: 0.0362 - acc: 0.98 - ETA: 50s - loss: 0.0361 - acc: 0.98 - ETA: 49s - loss: 0.0361 - acc: 0.98 - ETA: 48s - loss: 0.0362 - acc: 0.98 - ETA: 47s - loss: 0.0362 - acc: 0.98 - ETA: 46s - loss: 0.0362 - acc: 0.98 - ETA: 45s - loss: 0.0362 - acc: 0.98 - ETA: 44s - loss: 0.0361 - acc: 0.98 - ETA: 43s - loss: 0.0361 - acc: 0.98 - ETA: 42s - loss: 0.0361 - acc: 0.98 - ETA: 41s - loss: 0.0361 - acc: 0.98 - ETA: 40s - loss: 0.0361 - acc: 0.98 - ETA: 39s - loss: 0.0361 - acc: 0.98 - ETA: 38s - loss: 0.0361 - acc: 0.98 - ETA: 38s - loss: 0.0361 - acc: 0.98 - ETA: 37s - loss: 0.0361 - acc: 0.98 - ETA: 36s - loss: 0.0361 - acc: 0.98 - ETA: 35s - loss: 0.0361 - acc: 0.98 - ETA: 34s - loss: 0.0361 - acc: 0.98 - ETA: 33s - loss: 0.0362 - acc: 0.98 - ETA: 32s - loss: 0.0361 - acc: 0.98 - ETA: 31s - loss: 0.0361 - acc: 0.98 - ETA: 30s - loss: 0.0361 - acc: 0.98 - ETA: 29s - loss: 0.0362 - acc: 0.98 - ETA: 28s - loss: 0.0361 - acc: 0.98 - ETA: 27s - loss: 0.0361 - acc: 0.98 - ETA: 26s - loss: 0.0361 - acc: 0.98 - ETA: 25s - loss: 0.0361 - acc: 0.98 - ETA: 24s - loss: 0.0361 - acc: 0.98 - ETA: 23s - loss: 0.0361 - acc: 0.98 - ETA: 22s - loss: 0.0361 - acc: 0.98 - ETA: 21s - loss: 0.0361 - acc: 0.98 - ETA: 20s - loss: 0.0361 - acc: 0.98 - ETA: 19s - loss: 0.0361 - acc: 0.98 - ETA: 18s - loss: 0.0361 - acc: 0.98 - ETA: 17s - loss: 0.0361 - acc: 0.98 - ETA: 16s - loss: 0.0361 - acc: 0.98 - ETA: 15s - loss: 0.0361 - acc: 0.98 - ETA: 14s - loss: 0.0360 - acc: 0.98 - ETA: 13s - loss: 0.0360 - acc: 0.98 - ETA: 12s - loss: 0.0361 - acc: 0.98 - ETA: 11s - loss: 0.0361 - acc: 0.98 - ETA: 10s - loss: 0.0361 - acc: 0.98 - ETA: 9s - loss: 0.0361 - acc: 0.9877 - ETA: 8s - loss: 0.0361 - acc: 0.987 - ETA: 7s - loss: 0.0361 - acc: 0.987 - ETA: 6s - loss: 0.0362 - acc: 0.987 - ETA: 5s - loss: 0.0362 - acc: 0.987 - ETA: 4s - loss: 0.0361 - acc: 0.987 - ETA: 3s - loss: 0.0361 - acc: 0.987 - ETA: 2s - loss: 0.0362 - acc: 0.987 - ETA: 1s - loss: 0.0362 - acc: 0.987 - ETA: 0s - loss: 0.0362 - acc: 0.987 - 734s 8ms/step - loss: 0.0362 - acc: 0.9876 - val_loss: 0.0605 - val_acc: 0.9792\n"
     ]
    }
   ],
   "source": [
    "history = model.fit(totalX,  y_train.values, validation_split=0.3, batch_size=128, epochs=3)"
   ]
  },
  {
   "cell_type": "markdown",
   "metadata": {},
   "source": [
    "#### Tokenize test set"
   ]
  },
  {
   "cell_type": "code",
   "execution_count": 39,
   "metadata": {},
   "outputs": [
    {
     "name": "stdout",
     "output_type": "stream",
     "text": [
      "test_vocab_size: 63956\n"
     ]
    }
   ],
   "source": [
    "max_vocab_size = 200000\n",
    "test_tokenizer = Tokenizer(max_vocab_size)\n",
    "test_tokenizer.fit_on_texts(X_test)\n",
    "test_vocab_size = len(test_tokenizer.word_index) + 1\n",
    "print(\"test_vocab_size:\",test_vocab_size)\n",
    "totalX_test = np.array(pad_sequences(input_tokenizer.texts_to_sequences(X_test), maxlen=maxLength))"
   ]
  },
  {
   "cell_type": "markdown",
   "metadata": {},
   "source": [
    "#### Make class prediction on the test set"
   ]
  },
  {
   "cell_type": "code",
   "execution_count": 41,
   "metadata": {},
   "outputs": [],
   "source": [
    "pred = model.predict_classes(totalX_test)"
   ]
  },
  {
   "cell_type": "code",
   "execution_count": 86,
   "metadata": {},
   "outputs": [],
   "source": [
    "map_class = {'news':0, 'nfl':1, 'soccer':2, 'movies':3, 'politics':4, 'hockey':5, 'nba':6,'worldnews':7}\n",
    "inv_map = {v: k for k, v in map_class.items()}"
   ]
  },
  {
   "cell_type": "code",
   "execution_count": 92,
   "metadata": {},
   "outputs": [
    {
     "data": {
      "text/plain": [
       "0.9100848484848485"
      ]
     },
     "execution_count": 92,
     "metadata": {},
     "output_type": "execute_result"
    }
   ],
   "source": [
    "# Performance \n",
    "np.mean(pred==data.loc[y_test.index].category.map(map_class).values)"
   ]
  },
  {
   "cell_type": "code",
   "execution_count": null,
   "metadata": {},
   "outputs": [],
   "source": []
  },
  {
   "cell_type": "markdown",
   "metadata": {},
   "source": [
    " "
   ]
  },
  {
   "cell_type": "markdown",
   "metadata": {},
   "source": [
    " "
   ]
  },
  {
   "cell_type": "markdown",
   "metadata": {},
   "source": [
    " "
   ]
  },
  {
   "cell_type": "markdown",
   "metadata": {},
   "source": [
    " "
   ]
  },
  {
   "cell_type": "markdown",
   "metadata": {},
   "source": [
    " "
   ]
  },
  {
   "cell_type": "markdown",
   "metadata": {},
   "source": [
    " "
   ]
  }
 ],
 "metadata": {
  "kernelspec": {
   "display_name": "Python 3",
   "language": "python",
   "name": "python3"
  },
  "language_info": {
   "codemirror_mode": {
    "name": "ipython",
    "version": 3
   },
   "file_extension": ".py",
   "mimetype": "text/x-python",
   "name": "python",
   "nbconvert_exporter": "python",
   "pygments_lexer": "ipython3",
   "version": "3.6.5"
  }
 },
 "nbformat": 4,
 "nbformat_minor": 2
}
